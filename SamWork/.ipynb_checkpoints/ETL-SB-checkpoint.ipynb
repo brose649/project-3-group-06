{
 "cells": [
  {
   "cell_type": "code",
   "execution_count": 1,
   "id": "8fdee341-dc5c-44c8-9a57-7a0f2af82205",
   "metadata": {},
   "outputs": [],
   "source": [
    "from pathlib import Path\n",
    "import pandas as pd\n",
    "import numpy as np\n",
    "import scipy.stats as stats\n",
    "\n",
    "import matplotlib.pyplot as plt\n",
    "import seaborn as sns\n",
    "import datetime as dt"
   ]
  },
  {
   "cell_type": "code",
   "execution_count": 2,
   "id": "1f081628-2c9e-4b9c-8b47-459692d2ea7a",
   "metadata": {},
   "outputs": [
    {
     "name": "stderr",
     "output_type": "stream",
     "text": [
      "C:\\Users\\samri\\AppData\\Local\\Temp\\ipykernel_54228\\2118489344.py:5: DtypeWarning: Columns (5,9) have mixed types. Specify dtype option on import or set low_memory=False.\n",
      "  df = pd.read_csv(filepath)\n"
     ]
    },
    {
     "data": {
      "text/html": [
       "<div>\n",
       "<style scoped>\n",
       "    .dataframe tbody tr th:only-of-type {\n",
       "        vertical-align: middle;\n",
       "    }\n",
       "\n",
       "    .dataframe tbody tr th {\n",
       "        vertical-align: top;\n",
       "    }\n",
       "\n",
       "    .dataframe thead th {\n",
       "        text-align: right;\n",
       "    }\n",
       "</style>\n",
       "<table border=\"1\" class=\"dataframe\">\n",
       "  <thead>\n",
       "    <tr style=\"text-align: right;\">\n",
       "      <th></th>\n",
       "      <th>datetime</th>\n",
       "      <th>city</th>\n",
       "      <th>state</th>\n",
       "      <th>country</th>\n",
       "      <th>shape</th>\n",
       "      <th>duration (seconds)</th>\n",
       "      <th>duration (hours/min)</th>\n",
       "      <th>comments</th>\n",
       "      <th>date posted</th>\n",
       "      <th>latitude</th>\n",
       "      <th>longitude</th>\n",
       "    </tr>\n",
       "  </thead>\n",
       "  <tbody>\n",
       "    <tr>\n",
       "      <th>0</th>\n",
       "      <td>10/10/1949 20:30</td>\n",
       "      <td>san marcos</td>\n",
       "      <td>tx</td>\n",
       "      <td>us</td>\n",
       "      <td>cylinder</td>\n",
       "      <td>2700</td>\n",
       "      <td>45 minutes</td>\n",
       "      <td>This event took place in early fall around 194...</td>\n",
       "      <td>4/27/2004</td>\n",
       "      <td>29.8830556</td>\n",
       "      <td>-97.941111</td>\n",
       "    </tr>\n",
       "    <tr>\n",
       "      <th>1</th>\n",
       "      <td>10/10/1949 21:00</td>\n",
       "      <td>lackland afb</td>\n",
       "      <td>tx</td>\n",
       "      <td>NaN</td>\n",
       "      <td>light</td>\n",
       "      <td>7200</td>\n",
       "      <td>1-2 hrs</td>\n",
       "      <td>1949 Lackland AFB&amp;#44 TX.  Lights racing acros...</td>\n",
       "      <td>12/16/2005</td>\n",
       "      <td>29.38421</td>\n",
       "      <td>-98.581082</td>\n",
       "    </tr>\n",
       "    <tr>\n",
       "      <th>2</th>\n",
       "      <td>10/10/1955 17:00</td>\n",
       "      <td>chester (uk/england)</td>\n",
       "      <td>NaN</td>\n",
       "      <td>gb</td>\n",
       "      <td>circle</td>\n",
       "      <td>20</td>\n",
       "      <td>20 seconds</td>\n",
       "      <td>Green/Orange circular disc over Chester&amp;#44 En...</td>\n",
       "      <td>1/21/2008</td>\n",
       "      <td>53.2</td>\n",
       "      <td>-2.916667</td>\n",
       "    </tr>\n",
       "    <tr>\n",
       "      <th>3</th>\n",
       "      <td>10/10/1956 21:00</td>\n",
       "      <td>edna</td>\n",
       "      <td>tx</td>\n",
       "      <td>us</td>\n",
       "      <td>circle</td>\n",
       "      <td>20</td>\n",
       "      <td>1/2 hour</td>\n",
       "      <td>My older brother and twin sister were leaving ...</td>\n",
       "      <td>1/17/2004</td>\n",
       "      <td>28.9783333</td>\n",
       "      <td>-96.645833</td>\n",
       "    </tr>\n",
       "    <tr>\n",
       "      <th>4</th>\n",
       "      <td>10/10/1960 20:00</td>\n",
       "      <td>kaneohe</td>\n",
       "      <td>hi</td>\n",
       "      <td>us</td>\n",
       "      <td>light</td>\n",
       "      <td>900</td>\n",
       "      <td>15 minutes</td>\n",
       "      <td>AS a Marine 1st Lt. flying an FJ4B fighter/att...</td>\n",
       "      <td>1/22/2004</td>\n",
       "      <td>21.4180556</td>\n",
       "      <td>-157.803611</td>\n",
       "    </tr>\n",
       "  </tbody>\n",
       "</table>\n",
       "</div>"
      ],
      "text/plain": [
       "           datetime                  city state country     shape  \\\n",
       "0  10/10/1949 20:30            san marcos    tx      us  cylinder   \n",
       "1  10/10/1949 21:00          lackland afb    tx     NaN     light   \n",
       "2  10/10/1955 17:00  chester (uk/england)   NaN      gb    circle   \n",
       "3  10/10/1956 21:00                  edna    tx      us    circle   \n",
       "4  10/10/1960 20:00               kaneohe    hi      us     light   \n",
       "\n",
       "  duration (seconds) duration (hours/min)  \\\n",
       "0               2700           45 minutes   \n",
       "1               7200              1-2 hrs   \n",
       "2                 20           20 seconds   \n",
       "3                 20             1/2 hour   \n",
       "4                900           15 minutes   \n",
       "\n",
       "                                            comments date posted    latitude  \\\n",
       "0  This event took place in early fall around 194...   4/27/2004  29.8830556   \n",
       "1  1949 Lackland AFB&#44 TX.  Lights racing acros...  12/16/2005    29.38421   \n",
       "2  Green/Orange circular disc over Chester&#44 En...   1/21/2008        53.2   \n",
       "3  My older brother and twin sister were leaving ...   1/17/2004  28.9783333   \n",
       "4  AS a Marine 1st Lt. flying an FJ4B fighter/att...   1/22/2004  21.4180556   \n",
       "\n",
       "   longitude   \n",
       "0  -97.941111  \n",
       "1  -98.581082  \n",
       "2   -2.916667  \n",
       "3  -96.645833  \n",
       "4 -157.803611  "
      ]
     },
     "execution_count": 2,
     "metadata": {},
     "output_type": "execute_result"
    }
   ],
   "source": [
    "# Create a file path\n",
    "filepath = \"./Resources/scrubbed.csv\"\n",
    "\n",
    "# Read in the data. \n",
    "df = pd.read_csv(filepath)\n",
    "\n",
    "df.head()"
   ]
  },
  {
   "cell_type": "code",
   "execution_count": 3,
   "id": "285bc54e-4cc6-4f3a-a959-b6d536cb217d",
   "metadata": {},
   "outputs": [
    {
     "name": "stdout",
     "output_type": "stream",
     "text": [
      "<class 'pandas.core.frame.DataFrame'>\n",
      "RangeIndex: 80332 entries, 0 to 80331\n",
      "Data columns (total 11 columns):\n",
      " #   Column                Non-Null Count  Dtype  \n",
      "---  ------                --------------  -----  \n",
      " 0   datetime              80332 non-null  object \n",
      " 1   city                  80332 non-null  object \n",
      " 2   state                 74535 non-null  object \n",
      " 3   country               70662 non-null  object \n",
      " 4   shape                 78400 non-null  object \n",
      " 5   duration (seconds)    80332 non-null  object \n",
      " 6   duration (hours/min)  80332 non-null  object \n",
      " 7   comments              80317 non-null  object \n",
      " 8   date posted           80332 non-null  object \n",
      " 9   latitude              80332 non-null  object \n",
      " 10  longitude             80332 non-null  float64\n",
      "dtypes: float64(1), object(10)\n",
      "memory usage: 6.7+ MB\n"
     ]
    }
   ],
   "source": [
    "df.info()"
   ]
  },
  {
   "cell_type": "code",
   "execution_count": 4,
   "id": "f0fa28b4-51cc-436b-9671-33bcf88571c3",
   "metadata": {},
   "outputs": [],
   "source": [
    "df.country = df.country.fillna('unknown')"
   ]
  },
  {
   "cell_type": "code",
   "execution_count": 5,
   "id": "181da1d0-82b5-4c96-8549-92a912a52338",
   "metadata": {},
   "outputs": [
    {
     "name": "stdout",
     "output_type": "stream",
     "text": [
      "<class 'pandas.core.frame.DataFrame'>\n",
      "RangeIndex: 80332 entries, 0 to 80331\n",
      "Data columns (total 11 columns):\n",
      " #   Column                Non-Null Count  Dtype  \n",
      "---  ------                --------------  -----  \n",
      " 0   datetime              80332 non-null  object \n",
      " 1   city                  80332 non-null  object \n",
      " 2   state                 74535 non-null  object \n",
      " 3   country               80332 non-null  object \n",
      " 4   shape                 78400 non-null  object \n",
      " 5   duration (seconds)    80332 non-null  object \n",
      " 6   duration (hours/min)  80332 non-null  object \n",
      " 7   comments              80317 non-null  object \n",
      " 8   date posted           80332 non-null  object \n",
      " 9   latitude              80332 non-null  object \n",
      " 10  longitude             80332 non-null  float64\n",
      "dtypes: float64(1), object(10)\n",
      "memory usage: 6.7+ MB\n"
     ]
    }
   ],
   "source": [
    "df.info()"
   ]
  },
  {
   "cell_type": "code",
   "execution_count": 6,
   "id": "0e81d79c-99d9-4591-97e9-844d432b8f75",
   "metadata": {},
   "outputs": [
    {
     "name": "stdout",
     "output_type": "stream",
     "text": [
      "<class 'pandas.core.frame.DataFrame'>\n",
      "RangeIndex: 80332 entries, 0 to 80331\n",
      "Data columns (total 11 columns):\n",
      " #   Column                Non-Null Count  Dtype  \n",
      "---  ------                --------------  -----  \n",
      " 0   datetime              80332 non-null  object \n",
      " 1   city                  80332 non-null  object \n",
      " 2   state                 80332 non-null  object \n",
      " 3   country               80332 non-null  object \n",
      " 4   shape                 78400 non-null  object \n",
      " 5   duration (seconds)    80332 non-null  object \n",
      " 6   duration (hours/min)  80332 non-null  object \n",
      " 7   comments              80317 non-null  object \n",
      " 8   date posted           80332 non-null  object \n",
      " 9   latitude              80332 non-null  object \n",
      " 10  longitude             80332 non-null  float64\n",
      "dtypes: float64(1), object(10)\n",
      "memory usage: 6.7+ MB\n"
     ]
    }
   ],
   "source": [
    "df.state = df.state.fillna('unknown')\n",
    "df.info()"
   ]
  },
  {
   "cell_type": "code",
   "execution_count": 7,
   "id": "2fbe4f83-d44b-472a-88be-20510fd1a2fc",
   "metadata": {},
   "outputs": [
    {
     "name": "stdout",
     "output_type": "stream",
     "text": [
      "<class 'pandas.core.frame.DataFrame'>\n",
      "RangeIndex: 80332 entries, 0 to 80331\n",
      "Data columns (total 11 columns):\n",
      " #   Column                Non-Null Count  Dtype  \n",
      "---  ------                --------------  -----  \n",
      " 0   datetime              80332 non-null  object \n",
      " 1   city                  80332 non-null  object \n",
      " 2   state                 80332 non-null  object \n",
      " 3   country               80332 non-null  object \n",
      " 4   shape                 80332 non-null  object \n",
      " 5   duration (seconds)    80332 non-null  object \n",
      " 6   duration (hours/min)  80332 non-null  object \n",
      " 7   comments              80317 non-null  object \n",
      " 8   date posted           80332 non-null  object \n",
      " 9   latitude              80332 non-null  object \n",
      " 10  longitude             80332 non-null  float64\n",
      "dtypes: float64(1), object(10)\n",
      "memory usage: 6.7+ MB\n"
     ]
    }
   ],
   "source": [
    "df[\"shape\"] = df[\"shape\"].fillna('unknown')\n",
    "df.info()"
   ]
  },
  {
   "cell_type": "code",
   "execution_count": 8,
   "id": "a48de2a7-89d3-409a-bb8b-6223f27af5b4",
   "metadata": {},
   "outputs": [
    {
     "name": "stdout",
     "output_type": "stream",
     "text": [
      "<class 'pandas.core.frame.DataFrame'>\n",
      "RangeIndex: 80332 entries, 0 to 80331\n",
      "Data columns (total 11 columns):\n",
      " #   Column                Non-Null Count  Dtype  \n",
      "---  ------                --------------  -----  \n",
      " 0   datetime              80332 non-null  object \n",
      " 1   city                  80332 non-null  object \n",
      " 2   state                 80332 non-null  object \n",
      " 3   country               80332 non-null  object \n",
      " 4   shape                 80332 non-null  object \n",
      " 5   duration (seconds)    80332 non-null  object \n",
      " 6   duration (hours/min)  80332 non-null  object \n",
      " 7   comments              80332 non-null  object \n",
      " 8   date posted           80332 non-null  object \n",
      " 9   latitude              80332 non-null  object \n",
      " 10  longitude             80332 non-null  float64\n",
      "dtypes: float64(1), object(10)\n",
      "memory usage: 6.7+ MB\n"
     ]
    }
   ],
   "source": [
    "df[\"comments\"] = df[\"comments\"].fillna('no comment')\n",
    "df.info()"
   ]
  },
  {
   "cell_type": "code",
   "execution_count": 9,
   "id": "5f8729ba-3ddc-4526-bc43-71ca956ab6f7",
   "metadata": {},
   "outputs": [
    {
     "data": {
      "text/plain": [
       "shape\n",
       "light        16565\n",
       "triangle      7865\n",
       "circle        7608\n",
       "unknown       7516\n",
       "fireball      6208\n",
       "other         5649\n",
       "sphere        5387\n",
       "disk          5213\n",
       "oval          3733\n",
       "formation     2457\n",
       "cigar         2057\n",
       "changing      1962\n",
       "flash         1328\n",
       "rectangle     1297\n",
       "cylinder      1283\n",
       "diamond       1178\n",
       "chevron        952\n",
       "egg            759\n",
       "teardrop       750\n",
       "cone           316\n",
       "cross          233\n",
       "delta            7\n",
       "round            2\n",
       "crescent         2\n",
       "pyramid          1\n",
       "flare            1\n",
       "hexagon          1\n",
       "dome             1\n",
       "changed          1\n",
       "Name: count, dtype: int64"
      ]
     },
     "execution_count": 9,
     "metadata": {},
     "output_type": "execute_result"
    }
   ],
   "source": [
    "df[\"shape\"].value_counts()"
   ]
  },
  {
   "cell_type": "code",
   "execution_count": 10,
   "id": "cb79c825-a992-427b-b52f-48b3ce586557",
   "metadata": {},
   "outputs": [],
   "source": [
    "item_shape = ['hexagon', 'delta', 'round', 'crescent', 'pyramid', 'flare', 'dome', 'changed', 'cross', 'cone']\n",
    "df = df[~df[\"shape\"].isin(item_shape)]"
   ]
  },
  {
   "cell_type": "code",
   "execution_count": 11,
   "id": "4b496d83-a20b-4199-9a4f-cbb8d407888f",
   "metadata": {},
   "outputs": [
    {
     "data": {
      "text/plain": [
       "shape\n",
       "light        16565\n",
       "triangle      7865\n",
       "circle        7608\n",
       "unknown       7516\n",
       "fireball      6208\n",
       "other         5649\n",
       "sphere        5387\n",
       "disk          5213\n",
       "oval          3733\n",
       "formation     2457\n",
       "cigar         2057\n",
       "changing      1962\n",
       "flash         1328\n",
       "rectangle     1297\n",
       "cylinder      1283\n",
       "diamond       1178\n",
       "chevron        952\n",
       "egg            759\n",
       "teardrop       750\n",
       "Name: count, dtype: int64"
      ]
     },
     "execution_count": 11,
     "metadata": {},
     "output_type": "execute_result"
    }
   ],
   "source": [
    "df[\"shape\"].value_counts()"
   ]
  },
  {
   "cell_type": "code",
   "execution_count": 12,
   "id": "45818fe6-92f8-4cdb-be81-fe39a1a15e2f",
   "metadata": {},
   "outputs": [
    {
     "name": "stdout",
     "output_type": "stream",
     "text": [
      "<class 'pandas.core.frame.DataFrame'>\n",
      "Index: 79767 entries, 0 to 80331\n",
      "Data columns (total 11 columns):\n",
      " #   Column                Non-Null Count  Dtype  \n",
      "---  ------                --------------  -----  \n",
      " 0   datetime              79767 non-null  object \n",
      " 1   city                  79767 non-null  object \n",
      " 2   state                 79767 non-null  object \n",
      " 3   country               79767 non-null  object \n",
      " 4   shape                 79767 non-null  object \n",
      " 5   duration (seconds)    79767 non-null  object \n",
      " 6   duration (hours/min)  79767 non-null  object \n",
      " 7   comments              79767 non-null  object \n",
      " 8   date posted           79767 non-null  object \n",
      " 9   latitude              79767 non-null  object \n",
      " 10  longitude             79767 non-null  float64\n",
      "dtypes: float64(1), object(10)\n",
      "memory usage: 7.3+ MB\n"
     ]
    }
   ],
   "source": [
    "df.info()"
   ]
  },
  {
   "cell_type": "code",
   "execution_count": 13,
   "id": "9721c522-64e3-479b-aba6-1f7cbb725dfe",
   "metadata": {},
   "outputs": [
    {
     "data": {
      "text/plain": [
       "country\n",
       "us         64666\n",
       "unknown     9603\n",
       "ca          2980\n",
       "gb          1882\n",
       "au           531\n",
       "de           105\n",
       "Name: count, dtype: int64"
      ]
     },
     "execution_count": 13,
     "metadata": {},
     "output_type": "execute_result"
    }
   ],
   "source": [
    "df.country.value_counts()"
   ]
  },
  {
   "cell_type": "code",
   "execution_count": 14,
   "id": "c2bcbbea-d72f-426d-b968-e2a45e4332e2",
   "metadata": {},
   "outputs": [
    {
     "name": "stdout",
     "output_type": "stream",
     "text": [
      "<class 'pandas.core.frame.DataFrame'>\n",
      "Index: 64666 entries, 0 to 80331\n",
      "Data columns (total 11 columns):\n",
      " #   Column                Non-Null Count  Dtype  \n",
      "---  ------                --------------  -----  \n",
      " 0   datetime              64666 non-null  object \n",
      " 1   city                  64666 non-null  object \n",
      " 2   state                 64666 non-null  object \n",
      " 3   country               64666 non-null  object \n",
      " 4   shape                 64666 non-null  object \n",
      " 5   duration (seconds)    64666 non-null  object \n",
      " 6   duration (hours/min)  64666 non-null  object \n",
      " 7   comments              64666 non-null  object \n",
      " 8   date posted           64666 non-null  object \n",
      " 9   latitude              64666 non-null  object \n",
      " 10  longitude             64666 non-null  float64\n",
      "dtypes: float64(1), object(10)\n",
      "memory usage: 5.9+ MB\n"
     ]
    }
   ],
   "source": [
    "df = df[df[\"country\"] == 'us']\n",
    "df.info()"
   ]
  },
  {
   "cell_type": "code",
   "execution_count": 15,
   "id": "2c452b67-09a5-4216-a575-ae18cf8f9e61",
   "metadata": {},
   "outputs": [
    {
     "data": {
      "text/plain": [
       "0        10/10/1949 20:30\n",
       "3        10/10/1956 21:00\n",
       "4        10/10/1960 20:00\n",
       "5        10/10/1961 19:00\n",
       "7        10/10/1965 23:45\n",
       "               ...       \n",
       "80327      9/9/2013 21:15\n",
       "80328      9/9/2013 22:00\n",
       "80329      9/9/2013 22:00\n",
       "80330      9/9/2013 22:20\n",
       "80331      9/9/2013 23:00\n",
       "Name: datetime, Length: 64666, dtype: object"
      ]
     },
     "execution_count": 15,
     "metadata": {},
     "output_type": "execute_result"
    }
   ],
   "source": [
    "df.datetime"
   ]
  },
  {
   "cell_type": "code",
   "execution_count": 16,
   "id": "e404a5a1-a0d8-4f12-850a-e7090ea0d8a9",
   "metadata": {},
   "outputs": [],
   "source": [
    "df['datetime'] = pd.to_datetime(df['datetime'], format='mixed', errors='coerce')"
   ]
  },
  {
   "cell_type": "code",
   "execution_count": 17,
   "id": "c6dc493d-9d45-41ee-b2ec-0182b5ba7216",
   "metadata": {},
   "outputs": [
    {
     "name": "stdout",
     "output_type": "stream",
     "text": [
      "<class 'pandas.core.frame.DataFrame'>\n",
      "Index: 64666 entries, 0 to 80331\n",
      "Data columns (total 11 columns):\n",
      " #   Column                Non-Null Count  Dtype         \n",
      "---  ------                --------------  -----         \n",
      " 0   datetime              64183 non-null  datetime64[ns]\n",
      " 1   city                  64666 non-null  object        \n",
      " 2   state                 64666 non-null  object        \n",
      " 3   country               64666 non-null  object        \n",
      " 4   shape                 64666 non-null  object        \n",
      " 5   duration (seconds)    64666 non-null  object        \n",
      " 6   duration (hours/min)  64666 non-null  object        \n",
      " 7   comments              64666 non-null  object        \n",
      " 8   date posted           64666 non-null  object        \n",
      " 9   latitude              64666 non-null  object        \n",
      " 10  longitude             64666 non-null  float64       \n",
      "dtypes: datetime64[ns](1), float64(1), object(9)\n",
      "memory usage: 5.9+ MB\n"
     ]
    }
   ],
   "source": [
    "df.info()"
   ]
  },
  {
   "cell_type": "code",
   "execution_count": 18,
   "id": "9f3b7894-dd97-40aa-b3fa-679addc3b2a5",
   "metadata": {},
   "outputs": [],
   "source": [
    "df = df.dropna(subset=['datetime'])"
   ]
  },
  {
   "cell_type": "code",
   "execution_count": 19,
   "id": "937ced97-dece-4bb0-9e3a-5ec48ac26cee",
   "metadata": {},
   "outputs": [
    {
     "name": "stdout",
     "output_type": "stream",
     "text": [
      "<class 'pandas.core.frame.DataFrame'>\n",
      "Index: 64183 entries, 0 to 80331\n",
      "Data columns (total 11 columns):\n",
      " #   Column                Non-Null Count  Dtype         \n",
      "---  ------                --------------  -----         \n",
      " 0   datetime              64183 non-null  datetime64[ns]\n",
      " 1   city                  64183 non-null  object        \n",
      " 2   state                 64183 non-null  object        \n",
      " 3   country               64183 non-null  object        \n",
      " 4   shape                 64183 non-null  object        \n",
      " 5   duration (seconds)    64183 non-null  object        \n",
      " 6   duration (hours/min)  64183 non-null  object        \n",
      " 7   comments              64183 non-null  object        \n",
      " 8   date posted           64183 non-null  object        \n",
      " 9   latitude              64183 non-null  object        \n",
      " 10  longitude             64183 non-null  float64       \n",
      "dtypes: datetime64[ns](1), float64(1), object(9)\n",
      "memory usage: 5.9+ MB\n"
     ]
    }
   ],
   "source": [
    "df.info()"
   ]
  },
  {
   "cell_type": "code",
   "execution_count": 20,
   "id": "947fd233-80ff-4563-82fa-122515d3f9bb",
   "metadata": {},
   "outputs": [],
   "source": [
    "df['latitude'] = df['latitude'].str.replace('[^0-9.-]', '', regex=True)\n",
    "df['latitude'] = df['latitude'].astype(float)"
   ]
  },
  {
   "cell_type": "code",
   "execution_count": 21,
   "id": "912f87d3-ca09-4f5a-ab55-4ffdddb5e179",
   "metadata": {},
   "outputs": [
    {
     "name": "stdout",
     "output_type": "stream",
     "text": [
      "<class 'pandas.core.frame.DataFrame'>\n",
      "Index: 64183 entries, 0 to 80331\n",
      "Data columns (total 11 columns):\n",
      " #   Column                Non-Null Count  Dtype         \n",
      "---  ------                --------------  -----         \n",
      " 0   datetime              64183 non-null  datetime64[ns]\n",
      " 1   city                  64183 non-null  object        \n",
      " 2   state                 64183 non-null  object        \n",
      " 3   country               64183 non-null  object        \n",
      " 4   shape                 64183 non-null  object        \n",
      " 5   duration (seconds)    64183 non-null  object        \n",
      " 6   duration (hours/min)  64183 non-null  object        \n",
      " 7   comments              64183 non-null  object        \n",
      " 8   date posted           64183 non-null  object        \n",
      " 9   latitude              52425 non-null  float64       \n",
      " 10  longitude             64183 non-null  float64       \n",
      "dtypes: datetime64[ns](1), float64(2), object(8)\n",
      "memory usage: 5.9+ MB\n"
     ]
    }
   ],
   "source": [
    "df.info()"
   ]
  },
  {
   "cell_type": "code",
   "execution_count": 22,
   "id": "390b6167-dcaa-4b3e-bd7a-8186e1fb375f",
   "metadata": {},
   "outputs": [
    {
     "data": {
      "text/html": [
       "<div>\n",
       "<style scoped>\n",
       "    .dataframe tbody tr th:only-of-type {\n",
       "        vertical-align: middle;\n",
       "    }\n",
       "\n",
       "    .dataframe tbody tr th {\n",
       "        vertical-align: top;\n",
       "    }\n",
       "\n",
       "    .dataframe thead th {\n",
       "        text-align: right;\n",
       "    }\n",
       "</style>\n",
       "<table border=\"1\" class=\"dataframe\">\n",
       "  <thead>\n",
       "    <tr style=\"text-align: right;\">\n",
       "      <th></th>\n",
       "      <th>datetime</th>\n",
       "      <th>city</th>\n",
       "      <th>state</th>\n",
       "      <th>country</th>\n",
       "      <th>shape</th>\n",
       "      <th>duration (seconds)</th>\n",
       "      <th>duration (hours/min)</th>\n",
       "      <th>comments</th>\n",
       "      <th>date posted</th>\n",
       "      <th>latitude</th>\n",
       "      <th>longitude</th>\n",
       "    </tr>\n",
       "  </thead>\n",
       "  <tbody>\n",
       "    <tr>\n",
       "      <th>0</th>\n",
       "      <td>1949-10-10 20:30:00</td>\n",
       "      <td>san marcos</td>\n",
       "      <td>tx</td>\n",
       "      <td>us</td>\n",
       "      <td>cylinder</td>\n",
       "      <td>2700</td>\n",
       "      <td>45 minutes</td>\n",
       "      <td>This event took place in early fall around 194...</td>\n",
       "      <td>4/27/2004</td>\n",
       "      <td>29.883056</td>\n",
       "      <td>-97.941111</td>\n",
       "    </tr>\n",
       "    <tr>\n",
       "      <th>3</th>\n",
       "      <td>1956-10-10 21:00:00</td>\n",
       "      <td>edna</td>\n",
       "      <td>tx</td>\n",
       "      <td>us</td>\n",
       "      <td>circle</td>\n",
       "      <td>20</td>\n",
       "      <td>1/2 hour</td>\n",
       "      <td>My older brother and twin sister were leaving ...</td>\n",
       "      <td>1/17/2004</td>\n",
       "      <td>28.978333</td>\n",
       "      <td>-96.645833</td>\n",
       "    </tr>\n",
       "    <tr>\n",
       "      <th>4</th>\n",
       "      <td>1960-10-10 20:00:00</td>\n",
       "      <td>kaneohe</td>\n",
       "      <td>hi</td>\n",
       "      <td>us</td>\n",
       "      <td>light</td>\n",
       "      <td>900</td>\n",
       "      <td>15 minutes</td>\n",
       "      <td>AS a Marine 1st Lt. flying an FJ4B fighter/att...</td>\n",
       "      <td>1/22/2004</td>\n",
       "      <td>21.418056</td>\n",
       "      <td>-157.803611</td>\n",
       "    </tr>\n",
       "    <tr>\n",
       "      <th>5</th>\n",
       "      <td>1961-10-10 19:00:00</td>\n",
       "      <td>bristol</td>\n",
       "      <td>tn</td>\n",
       "      <td>us</td>\n",
       "      <td>sphere</td>\n",
       "      <td>300</td>\n",
       "      <td>5 minutes</td>\n",
       "      <td>My father is now 89 my brother 52 the girl wit...</td>\n",
       "      <td>4/27/2007</td>\n",
       "      <td>36.595000</td>\n",
       "      <td>-82.188889</td>\n",
       "    </tr>\n",
       "    <tr>\n",
       "      <th>7</th>\n",
       "      <td>1965-10-10 23:45:00</td>\n",
       "      <td>norwalk</td>\n",
       "      <td>ct</td>\n",
       "      <td>us</td>\n",
       "      <td>disk</td>\n",
       "      <td>1200</td>\n",
       "      <td>20 minutes</td>\n",
       "      <td>A bright orange color changing to reddish colo...</td>\n",
       "      <td>10/2/1999</td>\n",
       "      <td>41.117500</td>\n",
       "      <td>-73.408333</td>\n",
       "    </tr>\n",
       "    <tr>\n",
       "      <th>...</th>\n",
       "      <td>...</td>\n",
       "      <td>...</td>\n",
       "      <td>...</td>\n",
       "      <td>...</td>\n",
       "      <td>...</td>\n",
       "      <td>...</td>\n",
       "      <td>...</td>\n",
       "      <td>...</td>\n",
       "      <td>...</td>\n",
       "      <td>...</td>\n",
       "      <td>...</td>\n",
       "    </tr>\n",
       "    <tr>\n",
       "      <th>122</th>\n",
       "      <td>2003-10-10 20:25:00</td>\n",
       "      <td>temperance</td>\n",
       "      <td>mi</td>\n",
       "      <td>us</td>\n",
       "      <td>oval</td>\n",
       "      <td>18000</td>\n",
       "      <td>over 5 hours</td>\n",
       "      <td>pulsating green white and red object in the no...</td>\n",
       "      <td>10/31/2003</td>\n",
       "      <td>41.779167</td>\n",
       "      <td>-83.568889</td>\n",
       "    </tr>\n",
       "    <tr>\n",
       "      <th>123</th>\n",
       "      <td>2003-10-10 21:10:00</td>\n",
       "      <td>crescent beach</td>\n",
       "      <td>sc</td>\n",
       "      <td>us</td>\n",
       "      <td>formation</td>\n",
       "      <td>37800</td>\n",
       "      <td>1 1/2 hr.</td>\n",
       "      <td>For two consecutive nights&amp;#44 we watched a pa...</td>\n",
       "      <td>1/17/2004</td>\n",
       "      <td>33.807500</td>\n",
       "      <td>-78.701111</td>\n",
       "    </tr>\n",
       "    <tr>\n",
       "      <th>124</th>\n",
       "      <td>2003-10-10 22:00:00</td>\n",
       "      <td>albuquerque</td>\n",
       "      <td>nm</td>\n",
       "      <td>us</td>\n",
       "      <td>light</td>\n",
       "      <td>180</td>\n",
       "      <td>3 minutes</td>\n",
       "      <td>Three bright lights that were huddled together...</td>\n",
       "      <td>2/1/2007</td>\n",
       "      <td>35.084444</td>\n",
       "      <td>-106.650556</td>\n",
       "    </tr>\n",
       "    <tr>\n",
       "      <th>126</th>\n",
       "      <td>2003-10-10 23:25:00</td>\n",
       "      <td>gleason</td>\n",
       "      <td>wi</td>\n",
       "      <td>us</td>\n",
       "      <td>sphere</td>\n",
       "      <td>1800</td>\n",
       "      <td>30min</td>\n",
       "      <td>UFO Contact&amp;#44 Amazing close sighting</td>\n",
       "      <td>9/2/2005</td>\n",
       "      <td>45.308889</td>\n",
       "      <td>-89.496389</td>\n",
       "    </tr>\n",
       "    <tr>\n",
       "      <th>127</th>\n",
       "      <td>2004-10-10 02:50:00</td>\n",
       "      <td>mahwah</td>\n",
       "      <td>nj</td>\n",
       "      <td>us</td>\n",
       "      <td>triangle</td>\n",
       "      <td>180</td>\n",
       "      <td>2 - 3 minutes</td>\n",
       "      <td>Triangle shaped flying&amp;#44 hovering U.F.O. wit...</td>\n",
       "      <td>12/12/2011</td>\n",
       "      <td>41.088611</td>\n",
       "      <td>-74.144167</td>\n",
       "    </tr>\n",
       "  </tbody>\n",
       "</table>\n",
       "<p>100 rows × 11 columns</p>\n",
       "</div>"
      ],
      "text/plain": [
       "               datetime            city state country      shape  \\\n",
       "0   1949-10-10 20:30:00      san marcos    tx      us   cylinder   \n",
       "3   1956-10-10 21:00:00            edna    tx      us     circle   \n",
       "4   1960-10-10 20:00:00         kaneohe    hi      us      light   \n",
       "5   1961-10-10 19:00:00         bristol    tn      us     sphere   \n",
       "7   1965-10-10 23:45:00         norwalk    ct      us       disk   \n",
       "..                  ...             ...   ...     ...        ...   \n",
       "122 2003-10-10 20:25:00      temperance    mi      us       oval   \n",
       "123 2003-10-10 21:10:00  crescent beach    sc      us  formation   \n",
       "124 2003-10-10 22:00:00     albuquerque    nm      us      light   \n",
       "126 2003-10-10 23:25:00         gleason    wi      us     sphere   \n",
       "127 2004-10-10 02:50:00          mahwah    nj      us   triangle   \n",
       "\n",
       "    duration (seconds) duration (hours/min)  \\\n",
       "0                 2700           45 minutes   \n",
       "3                   20             1/2 hour   \n",
       "4                  900           15 minutes   \n",
       "5                  300            5 minutes   \n",
       "7                 1200           20 minutes   \n",
       "..                 ...                  ...   \n",
       "122              18000         over 5 hours   \n",
       "123              37800            1 1/2 hr.   \n",
       "124                180            3 minutes   \n",
       "126               1800                30min   \n",
       "127                180        2 - 3 minutes   \n",
       "\n",
       "                                              comments date posted   latitude  \\\n",
       "0    This event took place in early fall around 194...   4/27/2004  29.883056   \n",
       "3    My older brother and twin sister were leaving ...   1/17/2004  28.978333   \n",
       "4    AS a Marine 1st Lt. flying an FJ4B fighter/att...   1/22/2004  21.418056   \n",
       "5    My father is now 89 my brother 52 the girl wit...   4/27/2007  36.595000   \n",
       "7    A bright orange color changing to reddish colo...   10/2/1999  41.117500   \n",
       "..                                                 ...         ...        ...   \n",
       "122  pulsating green white and red object in the no...  10/31/2003  41.779167   \n",
       "123  For two consecutive nights&#44 we watched a pa...   1/17/2004  33.807500   \n",
       "124  Three bright lights that were huddled together...    2/1/2007  35.084444   \n",
       "126             UFO Contact&#44 Amazing close sighting    9/2/2005  45.308889   \n",
       "127  Triangle shaped flying&#44 hovering U.F.O. wit...  12/12/2011  41.088611   \n",
       "\n",
       "     longitude   \n",
       "0    -97.941111  \n",
       "3    -96.645833  \n",
       "4   -157.803611  \n",
       "5    -82.188889  \n",
       "7    -73.408333  \n",
       "..          ...  \n",
       "122  -83.568889  \n",
       "123  -78.701111  \n",
       "124 -106.650556  \n",
       "126  -89.496389  \n",
       "127  -74.144167  \n",
       "\n",
       "[100 rows x 11 columns]"
      ]
     },
     "execution_count": 22,
     "metadata": {},
     "output_type": "execute_result"
    }
   ],
   "source": [
    "df.head(100)"
   ]
  },
  {
   "cell_type": "code",
   "execution_count": 25,
   "id": "8a7a175b-c5eb-43cf-84f1-377abf173333",
   "metadata": {},
   "outputs": [
    {
     "name": "stdout",
     "output_type": "stream",
     "text": [
      "<class 'pandas.core.frame.DataFrame'>\n",
      "Index: 64183 entries, 0 to 80331\n",
      "Data columns (total 11 columns):\n",
      " #   Column                Non-Null Count  Dtype         \n",
      "---  ------                --------------  -----         \n",
      " 0   datetime              64183 non-null  datetime64[ns]\n",
      " 1   city                  64183 non-null  object        \n",
      " 2   state                 64183 non-null  object        \n",
      " 3   country               64183 non-null  object        \n",
      " 4   shape                 64183 non-null  object        \n",
      " 5   duration (seconds)    64183 non-null  object        \n",
      " 6   duration (hours/min)  64183 non-null  object        \n",
      " 7   comments              64183 non-null  object        \n",
      " 8   date posted           64183 non-null  object        \n",
      " 9   latitude              52425 non-null  float64       \n",
      " 10  longitude             64183 non-null  float64       \n",
      "dtypes: datetime64[ns](1), float64(2), object(8)\n",
      "memory usage: 5.9+ MB\n"
     ]
    }
   ],
   "source": [
    "# changing the lat to float\n",
    "def convert_to_float(value):\n",
    "    try:\n",
    "        return float(value)\n",
    "    except ValueError:\n",
    "        return value\n",
    "\n",
    "# Apply the conversion function to the latitude column\n",
    "df['latitude'] = df['latitude'].apply(convert_to_float)\n",
    "\n",
    "df.info()"
   ]
  },
  {
   "cell_type": "code",
   "execution_count": null,
   "id": "8d5471eb-6a17-45be-add9-f6f0e0da1cb4",
   "metadata": {},
   "outputs": [],
   "source": []
  },
  {
   "cell_type": "code",
   "execution_count": null,
   "id": "e41a1448-71f1-4dec-b54c-b5fe1b2a4c42",
   "metadata": {},
   "outputs": [],
   "source": []
  },
  {
   "cell_type": "code",
   "execution_count": null,
   "id": "d815d947-430f-478b-b13c-923aaf517311",
   "metadata": {},
   "outputs": [],
   "source": []
  },
  {
   "cell_type": "code",
   "execution_count": null,
   "id": "ac782be5-45ad-473e-a803-3a3c82e956a6",
   "metadata": {},
   "outputs": [],
   "source": []
  }
 ],
 "metadata": {
  "kernelspec": {
   "display_name": "Python 3 (ipykernel)",
   "language": "python",
   "name": "python3"
  },
  "language_info": {
   "codemirror_mode": {
    "name": "ipython",
    "version": 3
   },
   "file_extension": ".py",
   "mimetype": "text/x-python",
   "name": "python",
   "nbconvert_exporter": "python",
   "pygments_lexer": "ipython3",
   "version": "3.10.14"
  }
 },
 "nbformat": 4,
 "nbformat_minor": 5
}
