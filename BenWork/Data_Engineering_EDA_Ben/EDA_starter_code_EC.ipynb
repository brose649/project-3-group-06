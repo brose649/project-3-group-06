{
 "cells": [
  {
   "cell_type": "code",
   "execution_count": 233,
   "id": "b4fbfcff-f825-4a45-a8cb-a367ac2a9fa9",
   "metadata": {},
   "outputs": [],
   "source": [
    "# data science\n",
    "import matplotlib.pyplot as plt\n",
    "import pandas as pd\n",
    "import numpy as np\n",
    "import seaborn as sns\n",
    "import datetime\n",
    "\n",
    "# API\n",
    "import requests\n",
    "import json\n",
    "\n",
    "# Python SQL toolkit and Object Relational Mapper\n",
    "import sqlalchemy\n",
    "from sqlalchemy.ext.automap import automap_base\n",
    "from sqlalchemy.orm import Session\n",
    "from sqlalchemy import create_engine, text, inspect, func"
   ]
  },
  {
   "cell_type": "code",
   "execution_count": 234,
   "id": "3d5c58e7-81ba-4ce8-85c7-d190e1aad7d4",
   "metadata": {},
   "outputs": [],
   "source": [
    "# Create engine using the `spacex.sqlite` database file\n",
    "engine = create_engine(\"sqlite:///ufo.sqlite\")"
   ]
  },
  {
   "cell_type": "code",
   "execution_count": 235,
   "id": "1d63d25c-c19d-4ba7-8113-a962cd6f0de0",
   "metadata": {},
   "outputs": [
    {
     "name": "stdout",
     "output_type": "stream",
     "text": [
      "ufo\n",
      "-----------\n",
      "datetime DATETIME\n",
      "city TEXT\n",
      "state TEXT\n",
      "country TEXT\n",
      "shape TEXT\n",
      "duration_seconds FLOAT\n",
      "duration_hours_min TEXT\n",
      "comments TEXT\n",
      "date_posted TEXT\n",
      "latitude FLOAT\n",
      "longitude FLOAT\n",
      "hour INTEGER\n",
      "month INTEGER\n",
      "year INTEGER\n",
      "dayofweek INTEGER\n",
      "day_of_week TEXT\n",
      "category TEXT\n",
      "\n"
     ]
    }
   ],
   "source": [
    "# INSPECT to confirm existence\n",
    "\n",
    "# Create the inspector and connect it to the engine\n",
    "inspector_gadget = inspect(engine)\n",
    "\n",
    "# Collect the names of tables within the database\n",
    "tables = inspector_gadget.get_table_names()\n",
    "\n",
    "# print metadata for each table\n",
    "for table in tables:\n",
    "    print(table)\n",
    "    print(\"-----------\")\n",
    "    \n",
    "    # get columns\n",
    "    columns = inspector_gadget.get_columns(table)\n",
    "    for column in columns:\n",
    "        print(column[\"name\"], column[\"type\"])\n",
    "\n",
    "    print()"
   ]
  },
  {
   "cell_type": "code",
   "execution_count": 237,
   "id": "d7366029-cde8-45a4-b17c-f18240185d6c",
   "metadata": {},
   "outputs": [
    {
     "data": {
      "text/html": [
       "<div>\n",
       "<style scoped>\n",
       "    .dataframe tbody tr th:only-of-type {\n",
       "        vertical-align: middle;\n",
       "    }\n",
       "\n",
       "    .dataframe tbody tr th {\n",
       "        vertical-align: top;\n",
       "    }\n",
       "\n",
       "    .dataframe thead th {\n",
       "        text-align: right;\n",
       "    }\n",
       "</style>\n",
       "<table border=\"1\" class=\"dataframe\">\n",
       "  <thead>\n",
       "    <tr style=\"text-align: right;\">\n",
       "      <th></th>\n",
       "      <th>state</th>\n",
       "      <th>shape</th>\n",
       "      <th>hour</th>\n",
       "      <th>month</th>\n",
       "      <th>year</th>\n",
       "      <th>dayofweek</th>\n",
       "    </tr>\n",
       "  </thead>\n",
       "  <tbody>\n",
       "    <tr>\n",
       "      <th>0</th>\n",
       "      <td>ny</td>\n",
       "      <td>rectangle</td>\n",
       "      <td>18</td>\n",
       "      <td>10</td>\n",
       "      <td>1994</td>\n",
       "      <td>0</td>\n",
       "    </tr>\n",
       "    <tr>\n",
       "      <th>1</th>\n",
       "      <td>ar</td>\n",
       "      <td>light</td>\n",
       "      <td>22</td>\n",
       "      <td>10</td>\n",
       "      <td>1994</td>\n",
       "      <td>0</td>\n",
       "    </tr>\n",
       "    <tr>\n",
       "      <th>2</th>\n",
       "      <td>wi</td>\n",
       "      <td>unknown</td>\n",
       "      <td>19</td>\n",
       "      <td>10</td>\n",
       "      <td>1995</td>\n",
       "      <td>1</td>\n",
       "    </tr>\n",
       "    <tr>\n",
       "      <th>3</th>\n",
       "      <td>ca</td>\n",
       "      <td>unknown</td>\n",
       "      <td>22</td>\n",
       "      <td>10</td>\n",
       "      <td>1995</td>\n",
       "      <td>1</td>\n",
       "    </tr>\n",
       "    <tr>\n",
       "      <th>4</th>\n",
       "      <td>mo</td>\n",
       "      <td>triangle</td>\n",
       "      <td>3</td>\n",
       "      <td>10</td>\n",
       "      <td>1996</td>\n",
       "      <td>3</td>\n",
       "    </tr>\n",
       "    <tr>\n",
       "      <th>5</th>\n",
       "      <td>sc</td>\n",
       "      <td>light</td>\n",
       "      <td>22</td>\n",
       "      <td>10</td>\n",
       "      <td>1996</td>\n",
       "      <td>3</td>\n",
       "    </tr>\n",
       "    <tr>\n",
       "      <th>6</th>\n",
       "      <td>oh</td>\n",
       "      <td>cylinder</td>\n",
       "      <td>22</td>\n",
       "      <td>10</td>\n",
       "      <td>1996</td>\n",
       "      <td>3</td>\n",
       "    </tr>\n",
       "    <tr>\n",
       "      <th>7</th>\n",
       "      <td>az</td>\n",
       "      <td>sphere</td>\n",
       "      <td>17</td>\n",
       "      <td>10</td>\n",
       "      <td>1997</td>\n",
       "      <td>4</td>\n",
       "    </tr>\n",
       "    <tr>\n",
       "      <th>8</th>\n",
       "      <td>ga</td>\n",
       "      <td>triangle</td>\n",
       "      <td>20</td>\n",
       "      <td>10</td>\n",
       "      <td>1997</td>\n",
       "      <td>4</td>\n",
       "    </tr>\n",
       "    <tr>\n",
       "      <th>9</th>\n",
       "      <td>mn</td>\n",
       "      <td>other</td>\n",
       "      <td>21</td>\n",
       "      <td>10</td>\n",
       "      <td>1997</td>\n",
       "      <td>4</td>\n",
       "    </tr>\n",
       "  </tbody>\n",
       "</table>\n",
       "</div>"
      ],
      "text/plain": [
       "  state      shape  hour  month  year  dayofweek\n",
       "0    ny  rectangle    18     10  1994          0\n",
       "1    ar      light    22     10  1994          0\n",
       "2    wi    unknown    19     10  1995          1\n",
       "3    ca    unknown    22     10  1995          1\n",
       "4    mo   triangle     3     10  1996          3\n",
       "5    sc      light    22     10  1996          3\n",
       "6    oh   cylinder    22     10  1996          3\n",
       "7    az     sphere    17     10  1997          4\n",
       "8    ga   triangle    20     10  1997          4\n",
       "9    mn      other    21     10  1997          4"
      ]
     },
     "execution_count": 237,
     "metadata": {},
     "output_type": "execute_result"
    }
   ],
   "source": [
    "# Genie query\n",
    "# build the query\n",
    "query = f\"\"\"\n",
    "SELECT \n",
    "    state,\n",
    "    shape,\n",
    "    hour,\n",
    "    month,\n",
    "    year,\n",
    "    day_of_week\n",
    "FROM ufo\n",
    ";\n",
    "\"\"\"\n",
    "\n",
    "# execute query\n",
    "table_df = pd.read_sql(text(query), con=engine)\n",
    "table_df.head(10)"
   ]
  },
  {
   "cell_type": "code",
   "execution_count": 238,
   "id": "b0736fac",
   "metadata": {},
   "outputs": [
    {
     "name": "stdout",
     "output_type": "stream",
     "text": [
      "<pandas.core.groupby.generic.DataFrameGroupBy object at 0x00000272F2B29840>\n"
     ]
    }
   ],
   "source": [
    "# Genie query\n",
    "table_df.columns = ['state','shape','hour','month','year','day_of_week']\n",
    "print(table_df.groupby('dayofweek'))"
   ]
  },
  {
   "cell_type": "code",
   "execution_count": 239,
   "id": "773dafea",
   "metadata": {},
   "outputs": [
    {
     "data": {
      "text/html": [
       "<div>\n",
       "<style scoped>\n",
       "    .dataframe tbody tr th:only-of-type {\n",
       "        vertical-align: middle;\n",
       "    }\n",
       "\n",
       "    .dataframe tbody tr th {\n",
       "        vertical-align: top;\n",
       "    }\n",
       "\n",
       "    .dataframe thead th {\n",
       "        text-align: right;\n",
       "    }\n",
       "</style>\n",
       "<table border=\"1\" class=\"dataframe\">\n",
       "  <thead>\n",
       "    <tr style=\"text-align: right;\">\n",
       "      <th>hour</th>\n",
       "      <th>0</th>\n",
       "      <th>1</th>\n",
       "      <th>2</th>\n",
       "      <th>3</th>\n",
       "      <th>4</th>\n",
       "      <th>5</th>\n",
       "      <th>6</th>\n",
       "      <th>7</th>\n",
       "      <th>8</th>\n",
       "      <th>9</th>\n",
       "      <th>...</th>\n",
       "      <th>14</th>\n",
       "      <th>15</th>\n",
       "      <th>16</th>\n",
       "      <th>17</th>\n",
       "      <th>18</th>\n",
       "      <th>19</th>\n",
       "      <th>20</th>\n",
       "      <th>21</th>\n",
       "      <th>22</th>\n",
       "      <th>23</th>\n",
       "    </tr>\n",
       "    <tr>\n",
       "      <th>dayofweek</th>\n",
       "      <th></th>\n",
       "      <th></th>\n",
       "      <th></th>\n",
       "      <th></th>\n",
       "      <th></th>\n",
       "      <th></th>\n",
       "      <th></th>\n",
       "      <th></th>\n",
       "      <th></th>\n",
       "      <th></th>\n",
       "      <th></th>\n",
       "      <th></th>\n",
       "      <th></th>\n",
       "      <th></th>\n",
       "      <th></th>\n",
       "      <th></th>\n",
       "      <th></th>\n",
       "      <th></th>\n",
       "      <th></th>\n",
       "      <th></th>\n",
       "      <th></th>\n",
       "    </tr>\n",
       "  </thead>\n",
       "  <tbody>\n",
       "    <tr>\n",
       "      <th>0</th>\n",
       "      <td>364</td>\n",
       "      <td>266</td>\n",
       "      <td>197</td>\n",
       "      <td>188</td>\n",
       "      <td>178</td>\n",
       "      <td>194</td>\n",
       "      <td>135</td>\n",
       "      <td>92</td>\n",
       "      <td>72</td>\n",
       "      <td>105</td>\n",
       "      <td>...</td>\n",
       "      <td>111</td>\n",
       "      <td>116</td>\n",
       "      <td>128</td>\n",
       "      <td>239</td>\n",
       "      <td>407</td>\n",
       "      <td>582</td>\n",
       "      <td>829</td>\n",
       "      <td>1023</td>\n",
       "      <td>948</td>\n",
       "      <td>650</td>\n",
       "    </tr>\n",
       "    <tr>\n",
       "      <th>1</th>\n",
       "      <td>377</td>\n",
       "      <td>321</td>\n",
       "      <td>210</td>\n",
       "      <td>190</td>\n",
       "      <td>138</td>\n",
       "      <td>202</td>\n",
       "      <td>152</td>\n",
       "      <td>115</td>\n",
       "      <td>90</td>\n",
       "      <td>100</td>\n",
       "      <td>...</td>\n",
       "      <td>121</td>\n",
       "      <td>113</td>\n",
       "      <td>152</td>\n",
       "      <td>276</td>\n",
       "      <td>465</td>\n",
       "      <td>694</td>\n",
       "      <td>864</td>\n",
       "      <td>1147</td>\n",
       "      <td>1004</td>\n",
       "      <td>683</td>\n",
       "    </tr>\n",
       "    <tr>\n",
       "      <th>2</th>\n",
       "      <td>410</td>\n",
       "      <td>303</td>\n",
       "      <td>176</td>\n",
       "      <td>197</td>\n",
       "      <td>152</td>\n",
       "      <td>207</td>\n",
       "      <td>130</td>\n",
       "      <td>103</td>\n",
       "      <td>81</td>\n",
       "      <td>105</td>\n",
       "      <td>...</td>\n",
       "      <td>111</td>\n",
       "      <td>121</td>\n",
       "      <td>152</td>\n",
       "      <td>272</td>\n",
       "      <td>392</td>\n",
       "      <td>650</td>\n",
       "      <td>939</td>\n",
       "      <td>1239</td>\n",
       "      <td>1127</td>\n",
       "      <td>741</td>\n",
       "    </tr>\n",
       "    <tr>\n",
       "      <th>3</th>\n",
       "      <td>330</td>\n",
       "      <td>283</td>\n",
       "      <td>227</td>\n",
       "      <td>177</td>\n",
       "      <td>151</td>\n",
       "      <td>164</td>\n",
       "      <td>153</td>\n",
       "      <td>98</td>\n",
       "      <td>78</td>\n",
       "      <td>101</td>\n",
       "      <td>...</td>\n",
       "      <td>96</td>\n",
       "      <td>140</td>\n",
       "      <td>159</td>\n",
       "      <td>267</td>\n",
       "      <td>419</td>\n",
       "      <td>669</td>\n",
       "      <td>936</td>\n",
       "      <td>1324</td>\n",
       "      <td>1046</td>\n",
       "      <td>751</td>\n",
       "    </tr>\n",
       "    <tr>\n",
       "      <th>4</th>\n",
       "      <td>406</td>\n",
       "      <td>313</td>\n",
       "      <td>234</td>\n",
       "      <td>173</td>\n",
       "      <td>152</td>\n",
       "      <td>177</td>\n",
       "      <td>146</td>\n",
       "      <td>97</td>\n",
       "      <td>106</td>\n",
       "      <td>118</td>\n",
       "      <td>...</td>\n",
       "      <td>107</td>\n",
       "      <td>138</td>\n",
       "      <td>150</td>\n",
       "      <td>265</td>\n",
       "      <td>387</td>\n",
       "      <td>661</td>\n",
       "      <td>940</td>\n",
       "      <td>1305</td>\n",
       "      <td>1236</td>\n",
       "      <td>860</td>\n",
       "    </tr>\n",
       "    <tr>\n",
       "      <th>5</th>\n",
       "      <td>475</td>\n",
       "      <td>400</td>\n",
       "      <td>269</td>\n",
       "      <td>233</td>\n",
       "      <td>170</td>\n",
       "      <td>178</td>\n",
       "      <td>115</td>\n",
       "      <td>108</td>\n",
       "      <td>93</td>\n",
       "      <td>127</td>\n",
       "      <td>...</td>\n",
       "      <td>170</td>\n",
       "      <td>169</td>\n",
       "      <td>187</td>\n",
       "      <td>315</td>\n",
       "      <td>504</td>\n",
       "      <td>756</td>\n",
       "      <td>1117</td>\n",
       "      <td>1640</td>\n",
       "      <td>1613</td>\n",
       "      <td>1130</td>\n",
       "    </tr>\n",
       "    <tr>\n",
       "      <th>6</th>\n",
       "      <td>529</td>\n",
       "      <td>372</td>\n",
       "      <td>266</td>\n",
       "      <td>232</td>\n",
       "      <td>205</td>\n",
       "      <td>156</td>\n",
       "      <td>112</td>\n",
       "      <td>55</td>\n",
       "      <td>83</td>\n",
       "      <td>86</td>\n",
       "      <td>...</td>\n",
       "      <td>157</td>\n",
       "      <td>182</td>\n",
       "      <td>204</td>\n",
       "      <td>267</td>\n",
       "      <td>425</td>\n",
       "      <td>624</td>\n",
       "      <td>920</td>\n",
       "      <td>1150</td>\n",
       "      <td>1104</td>\n",
       "      <td>798</td>\n",
       "    </tr>\n",
       "  </tbody>\n",
       "</table>\n",
       "<p>7 rows × 24 columns</p>\n",
       "</div>"
      ],
      "text/plain": [
       "hour        0    1    2    3    4    5    6    7    8    9   ...   14   15  \\\n",
       "dayofweek                                                    ...             \n",
       "0          364  266  197  188  178  194  135   92   72  105  ...  111  116   \n",
       "1          377  321  210  190  138  202  152  115   90  100  ...  121  113   \n",
       "2          410  303  176  197  152  207  130  103   81  105  ...  111  121   \n",
       "3          330  283  227  177  151  164  153   98   78  101  ...   96  140   \n",
       "4          406  313  234  173  152  177  146   97  106  118  ...  107  138   \n",
       "5          475  400  269  233  170  178  115  108   93  127  ...  170  169   \n",
       "6          529  372  266  232  205  156  112   55   83   86  ...  157  182   \n",
       "\n",
       "hour        16   17   18   19    20    21    22    23  \n",
       "dayofweek                                              \n",
       "0          128  239  407  582   829  1023   948   650  \n",
       "1          152  276  465  694   864  1147  1004   683  \n",
       "2          152  272  392  650   939  1239  1127   741  \n",
       "3          159  267  419  669   936  1324  1046   751  \n",
       "4          150  265  387  661   940  1305  1236   860  \n",
       "5          187  315  504  756  1117  1640  1613  1130  \n",
       "6          204  267  425  624   920  1150  1104   798  \n",
       "\n",
       "[7 rows x 24 columns]"
      ]
     },
     "execution_count": 239,
     "metadata": {},
     "output_type": "execute_result"
    }
   ],
   "source": [
    "# Genie query\n",
    "# dataframe exploration\n",
    "\n",
    "pivot1 = pd.pivot_table(table_df, values='state', index=['day_of_week'],\n",
    "                       columns=['hour'], aggfunc=np.ma.count)\n",
    "pivot1"
   ]
  },
  {
   "cell_type": "code",
   "execution_count": 240,
   "id": "37b35157",
   "metadata": {},
   "outputs": [
    {
     "data": {
      "text/html": [
       "<div>\n",
       "<style scoped>\n",
       "    .dataframe tbody tr th:only-of-type {\n",
       "        vertical-align: middle;\n",
       "    }\n",
       "\n",
       "    .dataframe tbody tr th {\n",
       "        vertical-align: top;\n",
       "    }\n",
       "\n",
       "    .dataframe thead th {\n",
       "        text-align: right;\n",
       "    }\n",
       "</style>\n",
       "<table border=\"1\" class=\"dataframe\">\n",
       "  <thead>\n",
       "    <tr style=\"text-align: right;\">\n",
       "      <th>hour</th>\n",
       "      <th>0</th>\n",
       "      <th>1</th>\n",
       "      <th>2</th>\n",
       "      <th>3</th>\n",
       "      <th>4</th>\n",
       "      <th>5</th>\n",
       "      <th>6</th>\n",
       "      <th>7</th>\n",
       "      <th>8</th>\n",
       "      <th>9</th>\n",
       "      <th>...</th>\n",
       "      <th>14</th>\n",
       "      <th>15</th>\n",
       "      <th>16</th>\n",
       "      <th>17</th>\n",
       "      <th>18</th>\n",
       "      <th>19</th>\n",
       "      <th>20</th>\n",
       "      <th>21</th>\n",
       "      <th>22</th>\n",
       "      <th>23</th>\n",
       "    </tr>\n",
       "    <tr>\n",
       "      <th>dayofweek</th>\n",
       "      <th></th>\n",
       "      <th></th>\n",
       "      <th></th>\n",
       "      <th></th>\n",
       "      <th></th>\n",
       "      <th></th>\n",
       "      <th></th>\n",
       "      <th></th>\n",
       "      <th></th>\n",
       "      <th></th>\n",
       "      <th></th>\n",
       "      <th></th>\n",
       "      <th></th>\n",
       "      <th></th>\n",
       "      <th></th>\n",
       "      <th></th>\n",
       "      <th></th>\n",
       "      <th></th>\n",
       "      <th></th>\n",
       "      <th></th>\n",
       "      <th></th>\n",
       "    </tr>\n",
       "  </thead>\n",
       "  <tbody>\n",
       "    <tr>\n",
       "      <th>0</th>\n",
       "      <td>364</td>\n",
       "      <td>266</td>\n",
       "      <td>197</td>\n",
       "      <td>188</td>\n",
       "      <td>178</td>\n",
       "      <td>194</td>\n",
       "      <td>135</td>\n",
       "      <td>92</td>\n",
       "      <td>72</td>\n",
       "      <td>105</td>\n",
       "      <td>...</td>\n",
       "      <td>111</td>\n",
       "      <td>116</td>\n",
       "      <td>128</td>\n",
       "      <td>239</td>\n",
       "      <td>407</td>\n",
       "      <td>582</td>\n",
       "      <td>829</td>\n",
       "      <td>1023</td>\n",
       "      <td>948</td>\n",
       "      <td>650</td>\n",
       "    </tr>\n",
       "    <tr>\n",
       "      <th>1</th>\n",
       "      <td>377</td>\n",
       "      <td>321</td>\n",
       "      <td>210</td>\n",
       "      <td>190</td>\n",
       "      <td>138</td>\n",
       "      <td>202</td>\n",
       "      <td>152</td>\n",
       "      <td>115</td>\n",
       "      <td>90</td>\n",
       "      <td>100</td>\n",
       "      <td>...</td>\n",
       "      <td>121</td>\n",
       "      <td>113</td>\n",
       "      <td>152</td>\n",
       "      <td>276</td>\n",
       "      <td>465</td>\n",
       "      <td>694</td>\n",
       "      <td>864</td>\n",
       "      <td>1147</td>\n",
       "      <td>1004</td>\n",
       "      <td>683</td>\n",
       "    </tr>\n",
       "    <tr>\n",
       "      <th>2</th>\n",
       "      <td>410</td>\n",
       "      <td>303</td>\n",
       "      <td>176</td>\n",
       "      <td>197</td>\n",
       "      <td>152</td>\n",
       "      <td>207</td>\n",
       "      <td>130</td>\n",
       "      <td>103</td>\n",
       "      <td>81</td>\n",
       "      <td>105</td>\n",
       "      <td>...</td>\n",
       "      <td>111</td>\n",
       "      <td>121</td>\n",
       "      <td>152</td>\n",
       "      <td>272</td>\n",
       "      <td>392</td>\n",
       "      <td>650</td>\n",
       "      <td>939</td>\n",
       "      <td>1239</td>\n",
       "      <td>1127</td>\n",
       "      <td>741</td>\n",
       "    </tr>\n",
       "    <tr>\n",
       "      <th>3</th>\n",
       "      <td>330</td>\n",
       "      <td>283</td>\n",
       "      <td>227</td>\n",
       "      <td>177</td>\n",
       "      <td>151</td>\n",
       "      <td>164</td>\n",
       "      <td>153</td>\n",
       "      <td>98</td>\n",
       "      <td>78</td>\n",
       "      <td>101</td>\n",
       "      <td>...</td>\n",
       "      <td>96</td>\n",
       "      <td>140</td>\n",
       "      <td>159</td>\n",
       "      <td>267</td>\n",
       "      <td>419</td>\n",
       "      <td>669</td>\n",
       "      <td>936</td>\n",
       "      <td>1324</td>\n",
       "      <td>1046</td>\n",
       "      <td>751</td>\n",
       "    </tr>\n",
       "    <tr>\n",
       "      <th>4</th>\n",
       "      <td>406</td>\n",
       "      <td>313</td>\n",
       "      <td>234</td>\n",
       "      <td>173</td>\n",
       "      <td>152</td>\n",
       "      <td>177</td>\n",
       "      <td>146</td>\n",
       "      <td>97</td>\n",
       "      <td>106</td>\n",
       "      <td>118</td>\n",
       "      <td>...</td>\n",
       "      <td>107</td>\n",
       "      <td>138</td>\n",
       "      <td>150</td>\n",
       "      <td>265</td>\n",
       "      <td>387</td>\n",
       "      <td>661</td>\n",
       "      <td>940</td>\n",
       "      <td>1305</td>\n",
       "      <td>1236</td>\n",
       "      <td>860</td>\n",
       "    </tr>\n",
       "    <tr>\n",
       "      <th>5</th>\n",
       "      <td>475</td>\n",
       "      <td>400</td>\n",
       "      <td>269</td>\n",
       "      <td>233</td>\n",
       "      <td>170</td>\n",
       "      <td>178</td>\n",
       "      <td>115</td>\n",
       "      <td>108</td>\n",
       "      <td>93</td>\n",
       "      <td>127</td>\n",
       "      <td>...</td>\n",
       "      <td>170</td>\n",
       "      <td>169</td>\n",
       "      <td>187</td>\n",
       "      <td>315</td>\n",
       "      <td>504</td>\n",
       "      <td>756</td>\n",
       "      <td>1117</td>\n",
       "      <td>1640</td>\n",
       "      <td>1613</td>\n",
       "      <td>1130</td>\n",
       "    </tr>\n",
       "    <tr>\n",
       "      <th>6</th>\n",
       "      <td>529</td>\n",
       "      <td>372</td>\n",
       "      <td>266</td>\n",
       "      <td>232</td>\n",
       "      <td>205</td>\n",
       "      <td>156</td>\n",
       "      <td>112</td>\n",
       "      <td>55</td>\n",
       "      <td>83</td>\n",
       "      <td>86</td>\n",
       "      <td>...</td>\n",
       "      <td>157</td>\n",
       "      <td>182</td>\n",
       "      <td>204</td>\n",
       "      <td>267</td>\n",
       "      <td>425</td>\n",
       "      <td>624</td>\n",
       "      <td>920</td>\n",
       "      <td>1150</td>\n",
       "      <td>1104</td>\n",
       "      <td>798</td>\n",
       "    </tr>\n",
       "  </tbody>\n",
       "</table>\n",
       "<p>7 rows × 24 columns</p>\n",
       "</div>"
      ],
      "text/plain": [
       "hour        0    1    2    3    4    5    6    7    8    9   ...   14   15  \\\n",
       "dayofweek                                                    ...             \n",
       "0          364  266  197  188  178  194  135   92   72  105  ...  111  116   \n",
       "1          377  321  210  190  138  202  152  115   90  100  ...  121  113   \n",
       "2          410  303  176  197  152  207  130  103   81  105  ...  111  121   \n",
       "3          330  283  227  177  151  164  153   98   78  101  ...   96  140   \n",
       "4          406  313  234  173  152  177  146   97  106  118  ...  107  138   \n",
       "5          475  400  269  233  170  178  115  108   93  127  ...  170  169   \n",
       "6          529  372  266  232  205  156  112   55   83   86  ...  157  182   \n",
       "\n",
       "hour        16   17   18   19    20    21    22    23  \n",
       "dayofweek                                              \n",
       "0          128  239  407  582   829  1023   948   650  \n",
       "1          152  276  465  694   864  1147  1004   683  \n",
       "2          152  272  392  650   939  1239  1127   741  \n",
       "3          159  267  419  669   936  1324  1046   751  \n",
       "4          150  265  387  661   940  1305  1236   860  \n",
       "5          187  315  504  756  1117  1640  1613  1130  \n",
       "6          204  267  425  624   920  1150  1104   798  \n",
       "\n",
       "[7 rows x 24 columns]"
      ]
     },
     "execution_count": 240,
     "metadata": {},
     "output_type": "execute_result"
    }
   ],
   "source": [
    "# Genie query\n",
    "pivot_df = pd.DataFrame(pd.pivot_table(table_df, values='state', index=['day_of_week'],\n",
    "                       columns=['hour'], aggfunc=np.ma.count).sort_index(ascending=True))\n",
    "pivot_df"
   ]
  },
  {
   "cell_type": "code",
   "execution_count": 241,
   "id": "a3dd8d30",
   "metadata": {},
   "outputs": [
    {
     "data": {
      "application/vnd.plotly.v1+json": {
       "config": {
        "plotlyServerURL": "https://plot.ly"
       },
       "data": [
        {
         "coloraxis": "coloraxis",
         "hovertemplate": "hour: %{x}<br>dayofweek: %{y}<br>color: %{z}<extra></extra>",
         "name": "0",
         "texttemplate": "%{z}",
         "type": "heatmap",
         "x": [
          "12am",
          "1am",
          "2am",
          "3am",
          "4am",
          "5am",
          "6am",
          "7am",
          "8am",
          "9am",
          "10am",
          "11am",
          "12pm",
          "1pm",
          "2pm",
          "3pm",
          "4pm",
          "5pm",
          "6pm",
          "7pm",
          "8pm",
          "9pm",
          "10pm",
          "11pm"
         ],
         "xaxis": "x",
         "y": [
          "Monday",
          "Tuesday",
          "Wednesday",
          "Thursday",
          "Friday",
          "Saturday",
          "Sunday"
         ],
         "yaxis": "y",
         "z": [
          [
           364,
           266,
           197,
           188,
           178,
           194,
           135,
           92,
           72,
           105,
           107,
           116,
           125,
           103,
           111,
           116,
           128,
           239,
           407,
           582,
           829,
           1023,
           948,
           650
          ],
          [
           377,
           321,
           210,
           190,
           138,
           202,
           152,
           115,
           90,
           100,
           109,
           90,
           128,
           108,
           121,
           113,
           152,
           276,
           465,
           694,
           864,
           1147,
           1004,
           683
          ],
          [
           410,
           303,
           176,
           197,
           152,
           207,
           130,
           103,
           81,
           105,
           114,
           105,
           121,
           105,
           111,
           121,
           152,
           272,
           392,
           650,
           939,
           1239,
           1127,
           741
          ],
          [
           330,
           283,
           227,
           177,
           151,
           164,
           153,
           98,
           78,
           101,
           111,
           109,
           109,
           117,
           96,
           140,
           159,
           267,
           419,
           669,
           936,
           1324,
           1046,
           751
          ],
          [
           406,
           313,
           234,
           173,
           152,
           177,
           146,
           97,
           106,
           118,
           132,
           122,
           125,
           123,
           107,
           138,
           150,
           265,
           387,
           661,
           940,
           1305,
           1236,
           860
          ],
          [
           475,
           400,
           269,
           233,
           170,
           178,
           115,
           108,
           93,
           127,
           154,
           163,
           169,
           164,
           170,
           169,
           187,
           315,
           504,
           756,
           1117,
           1640,
           1613,
           1130
          ],
          [
           529,
           372,
           266,
           232,
           205,
           156,
           112,
           55,
           83,
           86,
           141,
           126,
           134,
           148,
           157,
           182,
           204,
           267,
           425,
           624,
           920,
           1150,
           1104,
           798
          ]
         ]
        }
       ],
       "layout": {
        "coloraxis": {
         "colorscale": [
          [
           0,
           "rgb(247,252,245)"
          ],
          [
           0.125,
           "rgb(229,245,224)"
          ],
          [
           0.25,
           "rgb(199,233,192)"
          ],
          [
           0.375,
           "rgb(161,217,155)"
          ],
          [
           0.5,
           "rgb(116,196,118)"
          ],
          [
           0.625,
           "rgb(65,171,93)"
          ],
          [
           0.75,
           "rgb(35,139,69)"
          ],
          [
           0.875,
           "rgb(0,109,44)"
          ],
          [
           1,
           "rgb(0,68,27)"
          ]
         ]
        },
        "font": {
         "color": "white",
         "family": "Courier New"
        },
        "height": 500,
        "paper_bgcolor": "black",
        "template": {
         "data": {
          "bar": [
           {
            "error_x": {
             "color": "#2a3f5f"
            },
            "error_y": {
             "color": "#2a3f5f"
            },
            "marker": {
             "line": {
              "color": "#E5ECF6",
              "width": 0.5
             },
             "pattern": {
              "fillmode": "overlay",
              "size": 10,
              "solidity": 0.2
             }
            },
            "type": "bar"
           }
          ],
          "barpolar": [
           {
            "marker": {
             "line": {
              "color": "#E5ECF6",
              "width": 0.5
             },
             "pattern": {
              "fillmode": "overlay",
              "size": 10,
              "solidity": 0.2
             }
            },
            "type": "barpolar"
           }
          ],
          "carpet": [
           {
            "aaxis": {
             "endlinecolor": "#2a3f5f",
             "gridcolor": "white",
             "linecolor": "white",
             "minorgridcolor": "white",
             "startlinecolor": "#2a3f5f"
            },
            "baxis": {
             "endlinecolor": "#2a3f5f",
             "gridcolor": "white",
             "linecolor": "white",
             "minorgridcolor": "white",
             "startlinecolor": "#2a3f5f"
            },
            "type": "carpet"
           }
          ],
          "choropleth": [
           {
            "colorbar": {
             "outlinewidth": 0,
             "ticks": ""
            },
            "type": "choropleth"
           }
          ],
          "contour": [
           {
            "colorbar": {
             "outlinewidth": 0,
             "ticks": ""
            },
            "colorscale": [
             [
              0,
              "#0d0887"
             ],
             [
              0.1111111111111111,
              "#46039f"
             ],
             [
              0.2222222222222222,
              "#7201a8"
             ],
             [
              0.3333333333333333,
              "#9c179e"
             ],
             [
              0.4444444444444444,
              "#bd3786"
             ],
             [
              0.5555555555555556,
              "#d8576b"
             ],
             [
              0.6666666666666666,
              "#ed7953"
             ],
             [
              0.7777777777777778,
              "#fb9f3a"
             ],
             [
              0.8888888888888888,
              "#fdca26"
             ],
             [
              1,
              "#f0f921"
             ]
            ],
            "type": "contour"
           }
          ],
          "contourcarpet": [
           {
            "colorbar": {
             "outlinewidth": 0,
             "ticks": ""
            },
            "type": "contourcarpet"
           }
          ],
          "heatmap": [
           {
            "colorbar": {
             "outlinewidth": 0,
             "ticks": ""
            },
            "colorscale": [
             [
              0,
              "#0d0887"
             ],
             [
              0.1111111111111111,
              "#46039f"
             ],
             [
              0.2222222222222222,
              "#7201a8"
             ],
             [
              0.3333333333333333,
              "#9c179e"
             ],
             [
              0.4444444444444444,
              "#bd3786"
             ],
             [
              0.5555555555555556,
              "#d8576b"
             ],
             [
              0.6666666666666666,
              "#ed7953"
             ],
             [
              0.7777777777777778,
              "#fb9f3a"
             ],
             [
              0.8888888888888888,
              "#fdca26"
             ],
             [
              1,
              "#f0f921"
             ]
            ],
            "type": "heatmap"
           }
          ],
          "heatmapgl": [
           {
            "colorbar": {
             "outlinewidth": 0,
             "ticks": ""
            },
            "colorscale": [
             [
              0,
              "#0d0887"
             ],
             [
              0.1111111111111111,
              "#46039f"
             ],
             [
              0.2222222222222222,
              "#7201a8"
             ],
             [
              0.3333333333333333,
              "#9c179e"
             ],
             [
              0.4444444444444444,
              "#bd3786"
             ],
             [
              0.5555555555555556,
              "#d8576b"
             ],
             [
              0.6666666666666666,
              "#ed7953"
             ],
             [
              0.7777777777777778,
              "#fb9f3a"
             ],
             [
              0.8888888888888888,
              "#fdca26"
             ],
             [
              1,
              "#f0f921"
             ]
            ],
            "type": "heatmapgl"
           }
          ],
          "histogram": [
           {
            "marker": {
             "pattern": {
              "fillmode": "overlay",
              "size": 10,
              "solidity": 0.2
             }
            },
            "type": "histogram"
           }
          ],
          "histogram2d": [
           {
            "colorbar": {
             "outlinewidth": 0,
             "ticks": ""
            },
            "colorscale": [
             [
              0,
              "#0d0887"
             ],
             [
              0.1111111111111111,
              "#46039f"
             ],
             [
              0.2222222222222222,
              "#7201a8"
             ],
             [
              0.3333333333333333,
              "#9c179e"
             ],
             [
              0.4444444444444444,
              "#bd3786"
             ],
             [
              0.5555555555555556,
              "#d8576b"
             ],
             [
              0.6666666666666666,
              "#ed7953"
             ],
             [
              0.7777777777777778,
              "#fb9f3a"
             ],
             [
              0.8888888888888888,
              "#fdca26"
             ],
             [
              1,
              "#f0f921"
             ]
            ],
            "type": "histogram2d"
           }
          ],
          "histogram2dcontour": [
           {
            "colorbar": {
             "outlinewidth": 0,
             "ticks": ""
            },
            "colorscale": [
             [
              0,
              "#0d0887"
             ],
             [
              0.1111111111111111,
              "#46039f"
             ],
             [
              0.2222222222222222,
              "#7201a8"
             ],
             [
              0.3333333333333333,
              "#9c179e"
             ],
             [
              0.4444444444444444,
              "#bd3786"
             ],
             [
              0.5555555555555556,
              "#d8576b"
             ],
             [
              0.6666666666666666,
              "#ed7953"
             ],
             [
              0.7777777777777778,
              "#fb9f3a"
             ],
             [
              0.8888888888888888,
              "#fdca26"
             ],
             [
              1,
              "#f0f921"
             ]
            ],
            "type": "histogram2dcontour"
           }
          ],
          "mesh3d": [
           {
            "colorbar": {
             "outlinewidth": 0,
             "ticks": ""
            },
            "type": "mesh3d"
           }
          ],
          "parcoords": [
           {
            "line": {
             "colorbar": {
              "outlinewidth": 0,
              "ticks": ""
             }
            },
            "type": "parcoords"
           }
          ],
          "pie": [
           {
            "automargin": true,
            "type": "pie"
           }
          ],
          "scatter": [
           {
            "fillpattern": {
             "fillmode": "overlay",
             "size": 10,
             "solidity": 0.2
            },
            "type": "scatter"
           }
          ],
          "scatter3d": [
           {
            "line": {
             "colorbar": {
              "outlinewidth": 0,
              "ticks": ""
             }
            },
            "marker": {
             "colorbar": {
              "outlinewidth": 0,
              "ticks": ""
             }
            },
            "type": "scatter3d"
           }
          ],
          "scattercarpet": [
           {
            "marker": {
             "colorbar": {
              "outlinewidth": 0,
              "ticks": ""
             }
            },
            "type": "scattercarpet"
           }
          ],
          "scattergeo": [
           {
            "marker": {
             "colorbar": {
              "outlinewidth": 0,
              "ticks": ""
             }
            },
            "type": "scattergeo"
           }
          ],
          "scattergl": [
           {
            "marker": {
             "colorbar": {
              "outlinewidth": 0,
              "ticks": ""
             }
            },
            "type": "scattergl"
           }
          ],
          "scattermapbox": [
           {
            "marker": {
             "colorbar": {
              "outlinewidth": 0,
              "ticks": ""
             }
            },
            "type": "scattermapbox"
           }
          ],
          "scatterpolar": [
           {
            "marker": {
             "colorbar": {
              "outlinewidth": 0,
              "ticks": ""
             }
            },
            "type": "scatterpolar"
           }
          ],
          "scatterpolargl": [
           {
            "marker": {
             "colorbar": {
              "outlinewidth": 0,
              "ticks": ""
             }
            },
            "type": "scatterpolargl"
           }
          ],
          "scatterternary": [
           {
            "marker": {
             "colorbar": {
              "outlinewidth": 0,
              "ticks": ""
             }
            },
            "type": "scatterternary"
           }
          ],
          "surface": [
           {
            "colorbar": {
             "outlinewidth": 0,
             "ticks": ""
            },
            "colorscale": [
             [
              0,
              "#0d0887"
             ],
             [
              0.1111111111111111,
              "#46039f"
             ],
             [
              0.2222222222222222,
              "#7201a8"
             ],
             [
              0.3333333333333333,
              "#9c179e"
             ],
             [
              0.4444444444444444,
              "#bd3786"
             ],
             [
              0.5555555555555556,
              "#d8576b"
             ],
             [
              0.6666666666666666,
              "#ed7953"
             ],
             [
              0.7777777777777778,
              "#fb9f3a"
             ],
             [
              0.8888888888888888,
              "#fdca26"
             ],
             [
              1,
              "#f0f921"
             ]
            ],
            "type": "surface"
           }
          ],
          "table": [
           {
            "cells": {
             "fill": {
              "color": "#EBF0F8"
             },
             "line": {
              "color": "white"
             }
            },
            "header": {
             "fill": {
              "color": "#C8D4E3"
             },
             "line": {
              "color": "white"
             }
            },
            "type": "table"
           }
          ]
         },
         "layout": {
          "annotationdefaults": {
           "arrowcolor": "#2a3f5f",
           "arrowhead": 0,
           "arrowwidth": 1
          },
          "autotypenumbers": "strict",
          "coloraxis": {
           "colorbar": {
            "outlinewidth": 0,
            "ticks": ""
           }
          },
          "colorscale": {
           "diverging": [
            [
             0,
             "#8e0152"
            ],
            [
             0.1,
             "#c51b7d"
            ],
            [
             0.2,
             "#de77ae"
            ],
            [
             0.3,
             "#f1b6da"
            ],
            [
             0.4,
             "#fde0ef"
            ],
            [
             0.5,
             "#f7f7f7"
            ],
            [
             0.6,
             "#e6f5d0"
            ],
            [
             0.7,
             "#b8e186"
            ],
            [
             0.8,
             "#7fbc41"
            ],
            [
             0.9,
             "#4d9221"
            ],
            [
             1,
             "#276419"
            ]
           ],
           "sequential": [
            [
             0,
             "#0d0887"
            ],
            [
             0.1111111111111111,
             "#46039f"
            ],
            [
             0.2222222222222222,
             "#7201a8"
            ],
            [
             0.3333333333333333,
             "#9c179e"
            ],
            [
             0.4444444444444444,
             "#bd3786"
            ],
            [
             0.5555555555555556,
             "#d8576b"
            ],
            [
             0.6666666666666666,
             "#ed7953"
            ],
            [
             0.7777777777777778,
             "#fb9f3a"
            ],
            [
             0.8888888888888888,
             "#fdca26"
            ],
            [
             1,
             "#f0f921"
            ]
           ],
           "sequentialminus": [
            [
             0,
             "#0d0887"
            ],
            [
             0.1111111111111111,
             "#46039f"
            ],
            [
             0.2222222222222222,
             "#7201a8"
            ],
            [
             0.3333333333333333,
             "#9c179e"
            ],
            [
             0.4444444444444444,
             "#bd3786"
            ],
            [
             0.5555555555555556,
             "#d8576b"
            ],
            [
             0.6666666666666666,
             "#ed7953"
            ],
            [
             0.7777777777777778,
             "#fb9f3a"
            ],
            [
             0.8888888888888888,
             "#fdca26"
            ],
            [
             1,
             "#f0f921"
            ]
           ]
          },
          "colorway": [
           "#636efa",
           "#EF553B",
           "#00cc96",
           "#ab63fa",
           "#FFA15A",
           "#19d3f3",
           "#FF6692",
           "#B6E880",
           "#FF97FF",
           "#FECB52"
          ],
          "font": {
           "color": "#2a3f5f"
          },
          "geo": {
           "bgcolor": "white",
           "lakecolor": "white",
           "landcolor": "#E5ECF6",
           "showlakes": true,
           "showland": true,
           "subunitcolor": "white"
          },
          "hoverlabel": {
           "align": "left"
          },
          "hovermode": "closest",
          "mapbox": {
           "style": "light"
          },
          "paper_bgcolor": "white",
          "plot_bgcolor": "#E5ECF6",
          "polar": {
           "angularaxis": {
            "gridcolor": "white",
            "linecolor": "white",
            "ticks": ""
           },
           "bgcolor": "#E5ECF6",
           "radialaxis": {
            "gridcolor": "white",
            "linecolor": "white",
            "ticks": ""
           }
          },
          "scene": {
           "xaxis": {
            "backgroundcolor": "#E5ECF6",
            "gridcolor": "white",
            "gridwidth": 2,
            "linecolor": "white",
            "showbackground": true,
            "ticks": "",
            "zerolinecolor": "white"
           },
           "yaxis": {
            "backgroundcolor": "#E5ECF6",
            "gridcolor": "white",
            "gridwidth": 2,
            "linecolor": "white",
            "showbackground": true,
            "ticks": "",
            "zerolinecolor": "white"
           },
           "zaxis": {
            "backgroundcolor": "#E5ECF6",
            "gridcolor": "white",
            "gridwidth": 2,
            "linecolor": "white",
            "showbackground": true,
            "ticks": "",
            "zerolinecolor": "white"
           }
          },
          "shapedefaults": {
           "line": {
            "color": "#2a3f5f"
           }
          },
          "ternary": {
           "aaxis": {
            "gridcolor": "white",
            "linecolor": "white",
            "ticks": ""
           },
           "baxis": {
            "gridcolor": "white",
            "linecolor": "white",
            "ticks": ""
           },
           "bgcolor": "#E5ECF6",
           "caxis": {
            "gridcolor": "white",
            "linecolor": "white",
            "ticks": ""
           }
          },
          "title": {
           "x": 0.05
          },
          "xaxis": {
           "automargin": true,
           "gridcolor": "white",
           "linecolor": "white",
           "ticks": "",
           "title": {
            "standoff": 15
           },
           "zerolinecolor": "white",
           "zerolinewidth": 2
          },
          "yaxis": {
           "automargin": true,
           "gridcolor": "white",
           "linecolor": "white",
           "ticks": "",
           "title": {
            "standoff": 15
           },
           "zerolinecolor": "white",
           "zerolinewidth": 2
          }
         }
        },
        "title": {
         "text": "UFO Sightings Grouped by Time and Day of Week"
        },
        "width": 1000,
        "xaxis": {
         "anchor": "y",
         "constrain": "domain",
         "domain": [
          0,
          1
         ],
         "scaleanchor": "y",
         "title": {
          "text": "hour"
         }
        },
        "yaxis": {
         "anchor": "x",
         "autorange": "reversed",
         "constrain": "domain",
         "domain": [
          0,
          1
         ],
         "title": {
          "text": "dayofweek"
         }
        }
       }
      }
     },
     "metadata": {},
     "output_type": "display_data"
    }
   ],
   "source": [
    "# Genie query\n",
    "import plotly.express as px\n",
    "fig = px.imshow(pivot_df, \n",
    "                x=['12am','1am','2am','3am','4am','5am','6am','7am','8am','9am','10am','11am','12pm','1pm','2pm','3pm','4pm','5pm','6pm','7pm','8pm','9pm','10pm','11pm'], \n",
    "                y=['Monday','Tuesday','Wednesday','Thursday','Friday','Saturday','Sunday'],\n",
    "                color_continuous_scale='Greens', \n",
    "                text_auto=True,\n",
    "                title=\"UFO Sightings Grouped by Time and Day of Week\")\n",
    "fig.update_layout(width=1000,height=500, font_family=\"Courier New\", font_color=\"white\", paper_bgcolor=\"black\" )\n",
    "\n",
    "fig.show()"
   ]
  }
 ],
 "metadata": {
  "kernelspec": {
   "display_name": "Python 3 (ipykernel)",
   "language": "python",
   "name": "python3"
  },
  "language_info": {
   "codemirror_mode": {
    "name": "ipython",
    "version": 3
   },
   "file_extension": ".py",
   "mimetype": "text/x-python",
   "name": "python",
   "nbconvert_exporter": "python",
   "pygments_lexer": "ipython3",
   "version": "3.10.14"
  }
 },
 "nbformat": 4,
 "nbformat_minor": 5
}
