{
 "cells": [
  {
   "cell_type": "code",
   "execution_count": 6,
   "id": "adb32b8e-d5ed-458f-87ec-626da211bd4a",
   "metadata": {},
   "outputs": [],
   "source": [
    "# We need to create a SQLite database\n",
    "# I'm going to use a API, but you can use CSVs\n",
    "\n",
    "# Load data into a PANDAS dataframe -> load into the database"
   ]
  },
  {
   "cell_type": "markdown",
   "id": "63accde4",
   "metadata": {},
   "source": [
    "#### Load Dependencies"
   ]
  },
  {
   "cell_type": "code",
   "execution_count": 7,
   "id": "a802dd77-cd8d-4db0-b80d-decfce0285fc",
   "metadata": {},
   "outputs": [],
   "source": [
    "# data science\n",
    "import matplotlib.pyplot as plt\n",
    "import pandas as pd\n",
    "import numpy as np\n",
    "import seaborn as sns\n",
    "import datetime\n",
    "import scipy.stats as stats\n",
    "\n",
    "# Python SQL toolkit and Object Relational Mapper\n",
    "import sqlalchemy\n",
    "from sqlalchemy.ext.automap import automap_base\n",
    "from sqlalchemy.orm import Session\n",
    "from sqlalchemy import create_engine, text, inspect, func"
   ]
  },
  {
   "cell_type": "markdown",
   "id": "2de6cb3f",
   "metadata": {},
   "source": [
    "#### Read in Data File"
   ]
  },
  {
   "cell_type": "code",
   "execution_count": 8,
   "id": "32827b9c-41a7-4ace-8479-6d004f32d46e",
   "metadata": {},
   "outputs": [
    {
     "name": "stderr",
     "output_type": "stream",
     "text": [
      "C:\\Users\\Acer\\AppData\\Local\\Temp\\ipykernel_5656\\3153306518.py:5: DtypeWarning: Columns (5,9) have mixed types. Specify dtype option on import or set low_memory=False.\n",
      "  df = pd.read_csv(filepath)\n"
     ]
    },
    {
     "data": {
      "text/html": [
       "<div>\n",
       "<style scoped>\n",
       "    .dataframe tbody tr th:only-of-type {\n",
       "        vertical-align: middle;\n",
       "    }\n",
       "\n",
       "    .dataframe tbody tr th {\n",
       "        vertical-align: top;\n",
       "    }\n",
       "\n",
       "    .dataframe thead th {\n",
       "        text-align: right;\n",
       "    }\n",
       "</style>\n",
       "<table border=\"1\" class=\"dataframe\">\n",
       "  <thead>\n",
       "    <tr style=\"text-align: right;\">\n",
       "      <th></th>\n",
       "      <th>datetime</th>\n",
       "      <th>city</th>\n",
       "      <th>state</th>\n",
       "      <th>country</th>\n",
       "      <th>shape</th>\n",
       "      <th>duration (seconds)</th>\n",
       "      <th>duration (hours/min)</th>\n",
       "      <th>comments</th>\n",
       "      <th>date posted</th>\n",
       "      <th>latitude</th>\n",
       "      <th>longitude</th>\n",
       "    </tr>\n",
       "  </thead>\n",
       "  <tbody>\n",
       "    <tr>\n",
       "      <th>0</th>\n",
       "      <td>10/10/1949 20:30</td>\n",
       "      <td>san marcos</td>\n",
       "      <td>tx</td>\n",
       "      <td>us</td>\n",
       "      <td>cylinder</td>\n",
       "      <td>2700</td>\n",
       "      <td>45 minutes</td>\n",
       "      <td>This event took place in early fall around 194...</td>\n",
       "      <td>4/27/2004</td>\n",
       "      <td>29.8830556</td>\n",
       "      <td>-97.941111</td>\n",
       "    </tr>\n",
       "    <tr>\n",
       "      <th>1</th>\n",
       "      <td>10/10/1949 21:00</td>\n",
       "      <td>lackland afb</td>\n",
       "      <td>tx</td>\n",
       "      <td>NaN</td>\n",
       "      <td>light</td>\n",
       "      <td>7200</td>\n",
       "      <td>1-2 hrs</td>\n",
       "      <td>1949 Lackland AFB&amp;#44 TX.  Lights racing acros...</td>\n",
       "      <td>12/16/2005</td>\n",
       "      <td>29.38421</td>\n",
       "      <td>-98.581082</td>\n",
       "    </tr>\n",
       "    <tr>\n",
       "      <th>2</th>\n",
       "      <td>10/10/1955 17:00</td>\n",
       "      <td>chester (uk/england)</td>\n",
       "      <td>NaN</td>\n",
       "      <td>gb</td>\n",
       "      <td>circle</td>\n",
       "      <td>20</td>\n",
       "      <td>20 seconds</td>\n",
       "      <td>Green/Orange circular disc over Chester&amp;#44 En...</td>\n",
       "      <td>1/21/2008</td>\n",
       "      <td>53.2</td>\n",
       "      <td>-2.916667</td>\n",
       "    </tr>\n",
       "    <tr>\n",
       "      <th>3</th>\n",
       "      <td>10/10/1956 21:00</td>\n",
       "      <td>edna</td>\n",
       "      <td>tx</td>\n",
       "      <td>us</td>\n",
       "      <td>circle</td>\n",
       "      <td>20</td>\n",
       "      <td>1/2 hour</td>\n",
       "      <td>My older brother and twin sister were leaving ...</td>\n",
       "      <td>1/17/2004</td>\n",
       "      <td>28.9783333</td>\n",
       "      <td>-96.645833</td>\n",
       "    </tr>\n",
       "    <tr>\n",
       "      <th>4</th>\n",
       "      <td>10/10/1960 20:00</td>\n",
       "      <td>kaneohe</td>\n",
       "      <td>hi</td>\n",
       "      <td>us</td>\n",
       "      <td>light</td>\n",
       "      <td>900</td>\n",
       "      <td>15 minutes</td>\n",
       "      <td>AS a Marine 1st Lt. flying an FJ4B fighter/att...</td>\n",
       "      <td>1/22/2004</td>\n",
       "      <td>21.4180556</td>\n",
       "      <td>-157.803611</td>\n",
       "    </tr>\n",
       "  </tbody>\n",
       "</table>\n",
       "</div>"
      ],
      "text/plain": [
       "           datetime                  city state country     shape  \\\n",
       "0  10/10/1949 20:30            san marcos    tx      us  cylinder   \n",
       "1  10/10/1949 21:00          lackland afb    tx     NaN     light   \n",
       "2  10/10/1955 17:00  chester (uk/england)   NaN      gb    circle   \n",
       "3  10/10/1956 21:00                  edna    tx      us    circle   \n",
       "4  10/10/1960 20:00               kaneohe    hi      us     light   \n",
       "\n",
       "  duration (seconds) duration (hours/min)  \\\n",
       "0               2700           45 minutes   \n",
       "1               7200              1-2 hrs   \n",
       "2                 20           20 seconds   \n",
       "3                 20             1/2 hour   \n",
       "4                900           15 minutes   \n",
       "\n",
       "                                            comments date posted    latitude  \\\n",
       "0  This event took place in early fall around 194...   4/27/2004  29.8830556   \n",
       "1  1949 Lackland AFB&#44 TX.  Lights racing acros...  12/16/2005    29.38421   \n",
       "2  Green/Orange circular disc over Chester&#44 En...   1/21/2008        53.2   \n",
       "3  My older brother and twin sister were leaving ...   1/17/2004  28.9783333   \n",
       "4  AS a Marine 1st Lt. flying an FJ4B fighter/att...   1/22/2004  21.4180556   \n",
       "\n",
       "   longitude   \n",
       "0  -97.941111  \n",
       "1  -98.581082  \n",
       "2   -2.916667  \n",
       "3  -96.645833  \n",
       "4 -157.803611  "
      ]
     },
     "execution_count": 8,
     "metadata": {},
     "output_type": "execute_result"
    }
   ],
   "source": [
    "# Create a file path\n",
    "filepath = \"../Resources/scrubbed.csv\"\n",
    "\n",
    "# Read in the data. \n",
    "df = pd.read_csv(filepath)\n",
    "\n",
    "df.head()"
   ]
  },
  {
   "cell_type": "markdown",
   "metadata": {},
   "source": [
    "#### Data Cleaning"
   ]
  },
  {
   "cell_type": "code",
   "execution_count": 9,
   "id": "4fc3d3f0",
   "metadata": {},
   "outputs": [],
   "source": [
    "df = df.dropna(subset=['country', 'state'])"
   ]
  },
  {
   "cell_type": "code",
   "execution_count": 10,
   "id": "5b4d5473",
   "metadata": {},
   "outputs": [
    {
     "name": "stdout",
     "output_type": "stream",
     "text": [
      "<class 'pandas.core.frame.DataFrame'>\n",
      "Index: 68121 entries, 0 to 80331\n",
      "Data columns (total 11 columns):\n",
      " #   Column                Non-Null Count  Dtype  \n",
      "---  ------                --------------  -----  \n",
      " 0   datetime              68121 non-null  object \n",
      " 1   city                  68121 non-null  object \n",
      " 2   state                 68121 non-null  object \n",
      " 3   country               68121 non-null  object \n",
      " 4   shape                 68121 non-null  object \n",
      " 5   duration (seconds)    68121 non-null  object \n",
      " 6   duration (hours/min)  68121 non-null  object \n",
      " 7   comments              68121 non-null  object \n",
      " 8   date posted           68121 non-null  object \n",
      " 9   latitude              68121 non-null  object \n",
      " 10  longitude             68121 non-null  float64\n",
      "dtypes: float64(1), object(10)\n",
      "memory usage: 6.2+ MB\n"
     ]
    }
   ],
   "source": [
    "# Fill nulls with 'unknown'\n",
    "df[\"shape\"] = df[\"shape\"].fillna('unknown')\n",
    "df[\"comments\"] = df[\"comments\"].fillna('no comment')\n",
    "df.info()"
   ]
  },
  {
   "cell_type": "code",
   "execution_count": 11,
   "id": "07ec4b74",
   "metadata": {},
   "outputs": [],
   "source": [
    "# Create a pared down list of shapes\n",
    "item_shape = ['hexagon', 'delta', 'round', 'crescent', 'pyramid', 'flare', 'dome', 'changed', 'cross', 'cone']\n",
    "df = df[~df[\"shape\"].isin(item_shape)]"
   ]
  },
  {
   "cell_type": "code",
   "execution_count": 12,
   "id": "ad8c29d5",
   "metadata": {},
   "outputs": [
    {
     "name": "stdout",
     "output_type": "stream",
     "text": [
      "<class 'pandas.core.frame.DataFrame'>\n",
      "Index: 64666 entries, 0 to 80331\n",
      "Data columns (total 11 columns):\n",
      " #   Column                Non-Null Count  Dtype  \n",
      "---  ------                --------------  -----  \n",
      " 0   datetime              64666 non-null  object \n",
      " 1   city                  64666 non-null  object \n",
      " 2   state                 64666 non-null  object \n",
      " 3   country               64666 non-null  object \n",
      " 4   shape                 64666 non-null  object \n",
      " 5   duration (seconds)    64666 non-null  object \n",
      " 6   duration (hours/min)  64666 non-null  object \n",
      " 7   comments              64666 non-null  object \n",
      " 8   date posted           64666 non-null  object \n",
      " 9   latitude              64666 non-null  object \n",
      " 10  longitude             64666 non-null  float64\n",
      "dtypes: float64(1), object(10)\n",
      "memory usage: 5.9+ MB\n"
     ]
    }
   ],
   "source": [
    "df = df[df[\"country\"] == 'us']\n",
    "df.info()"
   ]
  },
  {
   "cell_type": "code",
   "execution_count": 13,
   "id": "53a0f369",
   "metadata": {},
   "outputs": [
    {
     "name": "stdout",
     "output_type": "stream",
     "text": [
      "<class 'pandas.core.frame.DataFrame'>\n",
      "Index: 64666 entries, 0 to 80331\n",
      "Data columns (total 11 columns):\n",
      " #   Column                Non-Null Count  Dtype         \n",
      "---  ------                --------------  -----         \n",
      " 0   datetime              64183 non-null  datetime64[ns]\n",
      " 1   city                  64666 non-null  object        \n",
      " 2   state                 64666 non-null  object        \n",
      " 3   country               64666 non-null  object        \n",
      " 4   shape                 64666 non-null  object        \n",
      " 5   duration (seconds)    64666 non-null  object        \n",
      " 6   duration (hours/min)  64666 non-null  object        \n",
      " 7   comments              64666 non-null  object        \n",
      " 8   date posted           64666 non-null  object        \n",
      " 9   latitude              64666 non-null  object        \n",
      " 10  longitude             64666 non-null  float64       \n",
      "dtypes: datetime64[ns](1), float64(1), object(9)\n",
      "memory usage: 5.9+ MB\n"
     ]
    }
   ],
   "source": [
    "df['datetime'] = pd.to_datetime(df['datetime'], format='mixed', errors='coerce')\n",
    "df.info()"
   ]
  },
  {
   "cell_type": "code",
   "execution_count": 14,
   "id": "deb28380",
   "metadata": {},
   "outputs": [
    {
     "name": "stdout",
     "output_type": "stream",
     "text": [
      "<class 'pandas.core.frame.DataFrame'>\n",
      "Index: 64183 entries, 0 to 80331\n",
      "Data columns (total 11 columns):\n",
      " #   Column                Non-Null Count  Dtype         \n",
      "---  ------                --------------  -----         \n",
      " 0   datetime              64183 non-null  datetime64[ns]\n",
      " 1   city                  64183 non-null  object        \n",
      " 2   state                 64183 non-null  object        \n",
      " 3   country               64183 non-null  object        \n",
      " 4   shape                 64183 non-null  object        \n",
      " 5   duration (seconds)    64183 non-null  object        \n",
      " 6   duration (hours/min)  64183 non-null  object        \n",
      " 7   comments              64183 non-null  object        \n",
      " 8   date posted           64183 non-null  object        \n",
      " 9   latitude              64183 non-null  object        \n",
      " 10  longitude             64183 non-null  float64       \n",
      "dtypes: datetime64[ns](1), float64(1), object(9)\n",
      "memory usage: 5.9+ MB\n"
     ]
    }
   ],
   "source": [
    "df = df.dropna(subset=['datetime'])\n",
    "df.info()"
   ]
  },
  {
   "cell_type": "code",
   "execution_count": 15,
   "id": "d880fa2b",
   "metadata": {},
   "outputs": [
    {
     "name": "stdout",
     "output_type": "stream",
     "text": [
      "<class 'pandas.core.frame.DataFrame'>\n",
      "Index: 64183 entries, 0 to 80331\n",
      "Data columns (total 11 columns):\n",
      " #   Column                Non-Null Count  Dtype         \n",
      "---  ------                --------------  -----         \n",
      " 0   datetime              64183 non-null  datetime64[ns]\n",
      " 1   city                  64183 non-null  object        \n",
      " 2   state                 64183 non-null  object        \n",
      " 3   country               64183 non-null  object        \n",
      " 4   shape                 64183 non-null  object        \n",
      " 5   duration (seconds)    64183 non-null  object        \n",
      " 6   duration (hours/min)  64183 non-null  object        \n",
      " 7   comments              64183 non-null  object        \n",
      " 8   date posted           64183 non-null  object        \n",
      " 9   latitude              64183 non-null  float64       \n",
      " 10  longitude             64183 non-null  float64       \n",
      "dtypes: datetime64[ns](1), float64(2), object(8)\n",
      "memory usage: 5.9+ MB\n"
     ]
    }
   ],
   "source": [
    "df['latitude'] = pd.to_numeric(df['latitude'], errors='coerce')\n",
    "df.info()"
   ]
  },
  {
   "cell_type": "code",
   "execution_count": 16,
   "id": "17eeba16",
   "metadata": {},
   "outputs": [
    {
     "name": "stdout",
     "output_type": "stream",
     "text": [
      "<class 'pandas.core.frame.DataFrame'>\n",
      "Index: 64183 entries, 0 to 80331\n",
      "Data columns (total 11 columns):\n",
      " #   Column                Non-Null Count  Dtype         \n",
      "---  ------                --------------  -----         \n",
      " 0   datetime              64183 non-null  datetime64[ns]\n",
      " 1   city                  64183 non-null  object        \n",
      " 2   state                 64183 non-null  object        \n",
      " 3   country               64183 non-null  object        \n",
      " 4   shape                 64183 non-null  object        \n",
      " 5   duration (seconds)    64181 non-null  float64       \n",
      " 6   duration (hours/min)  64183 non-null  object        \n",
      " 7   comments              64183 non-null  object        \n",
      " 8   date posted           64183 non-null  object        \n",
      " 9   latitude              64183 non-null  float64       \n",
      " 10  longitude             64183 non-null  float64       \n",
      "dtypes: datetime64[ns](1), float64(3), object(7)\n",
      "memory usage: 5.9+ MB\n"
     ]
    }
   ],
   "source": [
    "df['duration (seconds)'] = pd.to_numeric(df['duration (seconds)'], errors='coerce')\n",
    "df.info()"
   ]
  },
  {
   "cell_type": "code",
   "execution_count": 17,
   "id": "b35917d6",
   "metadata": {},
   "outputs": [
    {
     "name": "stdout",
     "output_type": "stream",
     "text": [
      "<class 'pandas.core.frame.DataFrame'>\n",
      "Index: 64181 entries, 0 to 80331\n",
      "Data columns (total 11 columns):\n",
      " #   Column                Non-Null Count  Dtype         \n",
      "---  ------                --------------  -----         \n",
      " 0   datetime              64181 non-null  datetime64[ns]\n",
      " 1   city                  64181 non-null  object        \n",
      " 2   state                 64181 non-null  object        \n",
      " 3   country               64181 non-null  object        \n",
      " 4   shape                 64181 non-null  object        \n",
      " 5   duration (seconds)    64181 non-null  float64       \n",
      " 6   duration (hours/min)  64181 non-null  object        \n",
      " 7   comments              64181 non-null  object        \n",
      " 8   date posted           64181 non-null  object        \n",
      " 9   latitude              64181 non-null  float64       \n",
      " 10  longitude             64181 non-null  float64       \n",
      "dtypes: datetime64[ns](1), float64(3), object(7)\n",
      "memory usage: 5.9+ MB\n"
     ]
    }
   ],
   "source": [
    "df = df.dropna(subset=['duration (seconds)'])\n",
    "df.info()"
   ]
  },
  {
   "cell_type": "code",
   "execution_count": 18,
   "id": "6ba06e2c",
   "metadata": {},
   "outputs": [
    {
     "name": "stdout",
     "output_type": "stream",
     "text": [
      "<class 'pandas.core.frame.DataFrame'>\n",
      "Index: 58560 entries, 59 to 80331\n",
      "Data columns (total 11 columns):\n",
      " #   Column                Non-Null Count  Dtype         \n",
      "---  ------                --------------  -----         \n",
      " 0   datetime              58560 non-null  datetime64[ns]\n",
      " 1   city                  58560 non-null  object        \n",
      " 2   state                 58560 non-null  object        \n",
      " 3   country               58560 non-null  object        \n",
      " 4   shape                 58560 non-null  object        \n",
      " 5   duration (seconds)    58560 non-null  float64       \n",
      " 6   duration (hours/min)  58560 non-null  object        \n",
      " 7   comments              58560 non-null  object        \n",
      " 8   date posted           58560 non-null  object        \n",
      " 9   latitude              58560 non-null  float64       \n",
      " 10  longitude             58560 non-null  float64       \n",
      "dtypes: datetime64[ns](1), float64(3), object(7)\n",
      "memory usage: 5.4+ MB\n"
     ]
    }
   ],
   "source": [
    "df = df[df['datetime'].dt.year >= 1994]\n",
    "df.info()"
   ]
  },
  {
   "cell_type": "code",
   "execution_count": 19,
   "id": "27c663dd",
   "metadata": {},
   "outputs": [
    {
     "data": {
      "text/html": [
       "<div>\n",
       "<style scoped>\n",
       "    .dataframe tbody tr th:only-of-type {\n",
       "        vertical-align: middle;\n",
       "    }\n",
       "\n",
       "    .dataframe tbody tr th {\n",
       "        vertical-align: top;\n",
       "    }\n",
       "\n",
       "    .dataframe thead th {\n",
       "        text-align: right;\n",
       "    }\n",
       "</style>\n",
       "<table border=\"1\" class=\"dataframe\">\n",
       "  <thead>\n",
       "    <tr style=\"text-align: right;\">\n",
       "      <th></th>\n",
       "      <th>datetime</th>\n",
       "      <th>city</th>\n",
       "      <th>state</th>\n",
       "      <th>country</th>\n",
       "      <th>shape</th>\n",
       "      <th>duration (seconds)</th>\n",
       "      <th>duration (hours/min)</th>\n",
       "      <th>comments</th>\n",
       "      <th>date posted</th>\n",
       "      <th>latitude</th>\n",
       "      <th>longitude</th>\n",
       "    </tr>\n",
       "  </thead>\n",
       "  <tbody>\n",
       "    <tr>\n",
       "      <th>59</th>\n",
       "      <td>1994-10-10 18:30:00</td>\n",
       "      <td>burnt hills</td>\n",
       "      <td>ny</td>\n",
       "      <td>us</td>\n",
       "      <td>rectangle</td>\n",
       "      <td>120.0</td>\n",
       "      <td>2 minutes</td>\n",
       "      <td>Giant rectangular craft (resembling an upside-...</td>\n",
       "      <td>10/23/2013</td>\n",
       "      <td>42.909722</td>\n",
       "      <td>-73.895556</td>\n",
       "    </tr>\n",
       "    <tr>\n",
       "      <th>60</th>\n",
       "      <td>1994-10-10 22:00:00</td>\n",
       "      <td>pinebergen</td>\n",
       "      <td>ar</td>\n",
       "      <td>us</td>\n",
       "      <td>light</td>\n",
       "      <td>5.0</td>\n",
       "      <td>5 seconds</td>\n",
       "      <td>Round&amp;#44 bright&amp;#44 low flying object silentl...</td>\n",
       "      <td>2/18/2001</td>\n",
       "      <td>34.102778</td>\n",
       "      <td>-91.992222</td>\n",
       "    </tr>\n",
       "    <tr>\n",
       "      <th>62</th>\n",
       "      <td>1995-10-10 19:45:00</td>\n",
       "      <td>milwaukee</td>\n",
       "      <td>wi</td>\n",
       "      <td>us</td>\n",
       "      <td>unknown</td>\n",
       "      <td>120.0</td>\n",
       "      <td>2 min.</td>\n",
       "      <td>Man  on Hwy 43 SW of Milwaukee sees large&amp;#44 ...</td>\n",
       "      <td>11/2/1999</td>\n",
       "      <td>43.038889</td>\n",
       "      <td>-87.906389</td>\n",
       "    </tr>\n",
       "    <tr>\n",
       "      <th>63</th>\n",
       "      <td>1995-10-10 22:40:00</td>\n",
       "      <td>oakland</td>\n",
       "      <td>ca</td>\n",
       "      <td>us</td>\n",
       "      <td>unknown</td>\n",
       "      <td>60.0</td>\n",
       "      <td>1 minute</td>\n",
       "      <td>Woman repts.  bright light in NW sky&amp;#44 sudde...</td>\n",
       "      <td>11/2/1999</td>\n",
       "      <td>37.804444</td>\n",
       "      <td>-122.269722</td>\n",
       "    </tr>\n",
       "    <tr>\n",
       "      <th>64</th>\n",
       "      <td>1996-10-10 03:20:00</td>\n",
       "      <td>higginsville</td>\n",
       "      <td>mo</td>\n",
       "      <td>us</td>\n",
       "      <td>triangle</td>\n",
       "      <td>3.0</td>\n",
       "      <td>3sec</td>\n",
       "      <td>illuminated triangular craft&amp;#44 flying at hig...</td>\n",
       "      <td>2/16/2000</td>\n",
       "      <td>39.072500</td>\n",
       "      <td>-93.716944</td>\n",
       "    </tr>\n",
       "  </tbody>\n",
       "</table>\n",
       "</div>"
      ],
      "text/plain": [
       "              datetime          city state country      shape  \\\n",
       "59 1994-10-10 18:30:00   burnt hills    ny      us  rectangle   \n",
       "60 1994-10-10 22:00:00    pinebergen    ar      us      light   \n",
       "62 1995-10-10 19:45:00     milwaukee    wi      us    unknown   \n",
       "63 1995-10-10 22:40:00       oakland    ca      us    unknown   \n",
       "64 1996-10-10 03:20:00  higginsville    mo      us   triangle   \n",
       "\n",
       "    duration (seconds) duration (hours/min)  \\\n",
       "59               120.0            2 minutes   \n",
       "60                 5.0            5 seconds   \n",
       "62               120.0               2 min.   \n",
       "63                60.0             1 minute   \n",
       "64                 3.0                 3sec   \n",
       "\n",
       "                                             comments date posted   latitude  \\\n",
       "59  Giant rectangular craft (resembling an upside-...  10/23/2013  42.909722   \n",
       "60  Round&#44 bright&#44 low flying object silentl...   2/18/2001  34.102778   \n",
       "62  Man  on Hwy 43 SW of Milwaukee sees large&#44 ...   11/2/1999  43.038889   \n",
       "63  Woman repts.  bright light in NW sky&#44 sudde...   11/2/1999  37.804444   \n",
       "64  illuminated triangular craft&#44 flying at hig...   2/16/2000  39.072500   \n",
       "\n",
       "    longitude   \n",
       "59  -73.895556  \n",
       "60  -91.992222  \n",
       "62  -87.906389  \n",
       "63 -122.269722  \n",
       "64  -93.716944  "
      ]
     },
     "execution_count": 19,
     "metadata": {},
     "output_type": "execute_result"
    }
   ],
   "source": [
    "df.head()"
   ]
  },
  {
   "cell_type": "code",
   "execution_count": 20,
   "id": "9c66c508",
   "metadata": {},
   "outputs": [],
   "source": [
    "df[\"hour\"] = df.datetime.dt.hour\n",
    "df[\"month\"] = df.datetime.dt.month\n",
    "df[\"year\"] = df.datetime.dt.year\n",
    "df[\"dayofweek\"] = df.datetime.dt.strftime('%A')"
   ]
  },
  {
   "cell_type": "code",
   "execution_count": 21,
   "id": "f2fe8103",
   "metadata": {},
   "outputs": [
    {
     "data": {
      "text/html": [
       "<div>\n",
       "<style scoped>\n",
       "    .dataframe tbody tr th:only-of-type {\n",
       "        vertical-align: middle;\n",
       "    }\n",
       "\n",
       "    .dataframe tbody tr th {\n",
       "        vertical-align: top;\n",
       "    }\n",
       "\n",
       "    .dataframe thead th {\n",
       "        text-align: right;\n",
       "    }\n",
       "</style>\n",
       "<table border=\"1\" class=\"dataframe\">\n",
       "  <thead>\n",
       "    <tr style=\"text-align: right;\">\n",
       "      <th></th>\n",
       "      <th>datetime</th>\n",
       "      <th>city</th>\n",
       "      <th>state</th>\n",
       "      <th>country</th>\n",
       "      <th>shape</th>\n",
       "      <th>duration_seconds</th>\n",
       "      <th>duration_hours_min</th>\n",
       "      <th>comments</th>\n",
       "      <th>date_posted</th>\n",
       "      <th>latitude</th>\n",
       "      <th>longitude</th>\n",
       "      <th>hour</th>\n",
       "      <th>month</th>\n",
       "      <th>year</th>\n",
       "      <th>dayofweek</th>\n",
       "    </tr>\n",
       "  </thead>\n",
       "  <tbody>\n",
       "    <tr>\n",
       "      <th>59</th>\n",
       "      <td>1994-10-10 18:30:00</td>\n",
       "      <td>burnt hills</td>\n",
       "      <td>ny</td>\n",
       "      <td>us</td>\n",
       "      <td>rectangle</td>\n",
       "      <td>120.0</td>\n",
       "      <td>2 minutes</td>\n",
       "      <td>Giant rectangular craft (resembling an upside-...</td>\n",
       "      <td>10/23/2013</td>\n",
       "      <td>42.909722</td>\n",
       "      <td>-73.895556</td>\n",
       "      <td>18</td>\n",
       "      <td>10</td>\n",
       "      <td>1994</td>\n",
       "      <td>Monday</td>\n",
       "    </tr>\n",
       "    <tr>\n",
       "      <th>60</th>\n",
       "      <td>1994-10-10 22:00:00</td>\n",
       "      <td>pinebergen</td>\n",
       "      <td>ar</td>\n",
       "      <td>us</td>\n",
       "      <td>light</td>\n",
       "      <td>5.0</td>\n",
       "      <td>5 seconds</td>\n",
       "      <td>Round&amp;#44 bright&amp;#44 low flying object silentl...</td>\n",
       "      <td>2/18/2001</td>\n",
       "      <td>34.102778</td>\n",
       "      <td>-91.992222</td>\n",
       "      <td>22</td>\n",
       "      <td>10</td>\n",
       "      <td>1994</td>\n",
       "      <td>Monday</td>\n",
       "    </tr>\n",
       "    <tr>\n",
       "      <th>62</th>\n",
       "      <td>1995-10-10 19:45:00</td>\n",
       "      <td>milwaukee</td>\n",
       "      <td>wi</td>\n",
       "      <td>us</td>\n",
       "      <td>unknown</td>\n",
       "      <td>120.0</td>\n",
       "      <td>2 min.</td>\n",
       "      <td>Man  on Hwy 43 SW of Milwaukee sees large&amp;#44 ...</td>\n",
       "      <td>11/2/1999</td>\n",
       "      <td>43.038889</td>\n",
       "      <td>-87.906389</td>\n",
       "      <td>19</td>\n",
       "      <td>10</td>\n",
       "      <td>1995</td>\n",
       "      <td>Tuesday</td>\n",
       "    </tr>\n",
       "    <tr>\n",
       "      <th>63</th>\n",
       "      <td>1995-10-10 22:40:00</td>\n",
       "      <td>oakland</td>\n",
       "      <td>ca</td>\n",
       "      <td>us</td>\n",
       "      <td>unknown</td>\n",
       "      <td>60.0</td>\n",
       "      <td>1 minute</td>\n",
       "      <td>Woman repts.  bright light in NW sky&amp;#44 sudde...</td>\n",
       "      <td>11/2/1999</td>\n",
       "      <td>37.804444</td>\n",
       "      <td>-122.269722</td>\n",
       "      <td>22</td>\n",
       "      <td>10</td>\n",
       "      <td>1995</td>\n",
       "      <td>Tuesday</td>\n",
       "    </tr>\n",
       "    <tr>\n",
       "      <th>64</th>\n",
       "      <td>1996-10-10 03:20:00</td>\n",
       "      <td>higginsville</td>\n",
       "      <td>mo</td>\n",
       "      <td>us</td>\n",
       "      <td>triangle</td>\n",
       "      <td>3.0</td>\n",
       "      <td>3sec</td>\n",
       "      <td>illuminated triangular craft&amp;#44 flying at hig...</td>\n",
       "      <td>2/16/2000</td>\n",
       "      <td>39.072500</td>\n",
       "      <td>-93.716944</td>\n",
       "      <td>3</td>\n",
       "      <td>10</td>\n",
       "      <td>1996</td>\n",
       "      <td>Thursday</td>\n",
       "    </tr>\n",
       "  </tbody>\n",
       "</table>\n",
       "</div>"
      ],
      "text/plain": [
       "              datetime          city state country      shape  \\\n",
       "59 1994-10-10 18:30:00   burnt hills    ny      us  rectangle   \n",
       "60 1994-10-10 22:00:00    pinebergen    ar      us      light   \n",
       "62 1995-10-10 19:45:00     milwaukee    wi      us    unknown   \n",
       "63 1995-10-10 22:40:00       oakland    ca      us    unknown   \n",
       "64 1996-10-10 03:20:00  higginsville    mo      us   triangle   \n",
       "\n",
       "    duration_seconds duration_hours_min  \\\n",
       "59             120.0          2 minutes   \n",
       "60               5.0          5 seconds   \n",
       "62             120.0             2 min.   \n",
       "63              60.0           1 minute   \n",
       "64               3.0               3sec   \n",
       "\n",
       "                                             comments date_posted   latitude  \\\n",
       "59  Giant rectangular craft (resembling an upside-...  10/23/2013  42.909722   \n",
       "60  Round&#44 bright&#44 low flying object silentl...   2/18/2001  34.102778   \n",
       "62  Man  on Hwy 43 SW of Milwaukee sees large&#44 ...   11/2/1999  43.038889   \n",
       "63  Woman repts.  bright light in NW sky&#44 sudde...   11/2/1999  37.804444   \n",
       "64  illuminated triangular craft&#44 flying at hig...   2/16/2000  39.072500   \n",
       "\n",
       "    longitude   hour  month  year dayofweek  \n",
       "59  -73.895556    18     10  1994    Monday  \n",
       "60  -91.992222    22     10  1994    Monday  \n",
       "62  -87.906389    19     10  1995   Tuesday  \n",
       "63 -122.269722    22     10  1995   Tuesday  \n",
       "64  -93.716944     3     10  1996  Thursday  "
      ]
     },
     "execution_count": 21,
     "metadata": {},
     "output_type": "execute_result"
    }
   ],
   "source": [
    "df = df.rename(columns={\"duration (seconds)\": \"duration_seconds\", \"duration (hours/min)\": \"duration_hours_min\", \"date posted\": \"date_posted\"})\n",
    "df.head()"
   ]
  },
  {
   "cell_type": "code",
   "execution_count": 22,
   "id": "213d42da",
   "metadata": {},
   "outputs": [
    {
     "data": {
      "text/plain": [
       "dayofweek\n",
       "Saturday     10419\n",
       "Sunday        8476\n",
       "Friday        8473\n",
       "Wednesday     8053\n",
       "Thursday      8015\n",
       "Tuesday       7849\n",
       "Monday        7275\n",
       "Name: count, dtype: int64"
      ]
     },
     "execution_count": 22,
     "metadata": {},
     "output_type": "execute_result"
    }
   ],
   "source": [
    "df.dayofweek.value_counts()"
   ]
  },
  {
   "cell_type": "code",
   "execution_count": 23,
   "id": "5c8ad879",
   "metadata": {},
   "outputs": [
    {
     "data": {
      "text/plain": [
       "hour\n",
       "21    8828\n",
       "22    8078\n",
       "20    6545\n",
       "23    5613\n",
       "19    4636\n",
       "18    2999\n",
       "0     2891\n",
       "1     2258\n",
       "17    1901\n",
       "2     1579\n",
       "3     1390\n",
       "5     1278\n",
       "4     1146\n",
       "16    1132\n",
       "15     979\n",
       "6      943\n",
       "12     911\n",
       "14     873\n",
       "13     868\n",
       "10     868\n",
       "11     831\n",
       "9      742\n",
       "7      668\n",
       "8      603\n",
       "Name: count, dtype: int64"
      ]
     },
     "execution_count": 23,
     "metadata": {},
     "output_type": "execute_result"
    }
   ],
   "source": [
    "df.hour.value_counts()"
   ]
  },
  {
   "cell_type": "code",
   "execution_count": null,
   "id": "eeb66974",
   "metadata": {},
   "outputs": [],
   "source": [
    "def categorize_shape(shape):\n",
    "    if shape in ['changing', 'other', 'unknown']:\n",
    "        return 'Other'\n",
    "    elif shape in ['chevron', 'diamond', 'triangle']:\n",
    "        return 'Angular'\n",
    "    elif shape in ['cigar', 'cylinder', 'rectangle']:\n",
    "        return 'Rectangular'\n",
    "    elif shape in ['circle', 'disk', 'sphere']:\n",
    "        return 'Circular'\n",
    "    elif shape in ['fireball', 'flash', 'light']:\n",
    "        return 'Luminous'\n",
    "    elif shape in ['egg', 'oval', 'teardrop']:\n",
    "        return 'Elliptical'\n",
    "    elif shape == 'formation':\n",
    "        return 'Formation'\n",
    "    else:\n",
    "        return 'Uncategorized'\n",
    "# Apply category based on shape function\n",
    "df['category'] = df['shape'].apply(categorize_shape)\n",
    "df.head()"
   ]
  },
  {
   "cell_type": "markdown",
   "id": "9362d956",
   "metadata": {},
   "source": [
    "#### Below is the remaining starter code"
   ]
  },
  {
   "cell_type": "code",
   "execution_count": 24,
   "id": "721307fa-68b1-40eb-b1f2-e21924f7d1be",
   "metadata": {},
   "outputs": [],
   "source": [
    "# Create engine using the `ufo.sqlite` database file\n",
    "engine = create_engine(\"sqlite:///ufo.sqlite\")"
   ]
  },
  {
   "cell_type": "code",
   "execution_count": 25,
   "id": "31ed58e5-512c-4596-8156-4395358dd802",
   "metadata": {},
   "outputs": [
    {
     "data": {
      "text/plain": [
       "58560"
      ]
     },
     "execution_count": 25,
     "metadata": {},
     "output_type": "execute_result"
    }
   ],
   "source": [
    "# write to the database\n",
    "df.to_sql(\"ufo\", con=engine, index=False, method=None, if_exists=\"replace\")"
   ]
  },
  {
   "cell_type": "code",
   "execution_count": 26,
   "id": "c6a20656-3d0e-4f1f-8e57-1aad7d5d69c5",
   "metadata": {},
   "outputs": [
    {
     "name": "stdout",
     "output_type": "stream",
     "text": [
      "ufo\n",
      "-----------\n",
      "datetime DATETIME\n",
      "city TEXT\n",
      "state TEXT\n",
      "country TEXT\n",
      "shape TEXT\n",
      "duration_seconds FLOAT\n",
      "duration_hours_min TEXT\n",
      "comments TEXT\n",
      "date_posted TEXT\n",
      "latitude FLOAT\n",
      "longitude  FLOAT\n",
      "hour INTEGER\n",
      "month INTEGER\n",
      "year INTEGER\n",
      "dayofweek TEXT\n",
      "\n"
     ]
    }
   ],
   "source": [
    "# INSPECT to confirm existence\n",
    "\n",
    "# Create the inspector and connect it to the engine\n",
    "inspector_gadget = inspect(engine)\n",
    "\n",
    "# Collect the names of tables within the database\n",
    "tables = inspector_gadget.get_table_names()\n",
    "\n",
    "# print metadata for each table\n",
    "for table in tables:\n",
    "    print(table)\n",
    "    print(\"-----------\")\n",
    "    \n",
    "    # get columns\n",
    "    columns = inspector_gadget.get_columns(table)\n",
    "    for column in columns:\n",
    "        print(column[\"name\"], column[\"type\"])\n",
    "\n",
    "    print()"
   ]
  },
  {
   "cell_type": "code",
   "execution_count": 27,
   "id": "89a53b0d-b488-4ea6-ae26-5b21d90da554",
   "metadata": {},
   "outputs": [],
   "source": [
    "# close the engine\n",
    "engine.dispose()"
   ]
  }
 ],
 "metadata": {
  "kernelspec": {
   "display_name": "Python 3 (ipykernel)",
   "language": "python",
   "name": "python3"
  },
  "language_info": {
   "codemirror_mode": {
    "name": "ipython",
    "version": 3
   },
   "file_extension": ".py",
   "mimetype": "text/x-python",
   "name": "python",
   "nbconvert_exporter": "python",
   "pygments_lexer": "ipython3",
   "version": "3.10.14"
  }
 },
 "nbformat": 4,
 "nbformat_minor": 5
}
